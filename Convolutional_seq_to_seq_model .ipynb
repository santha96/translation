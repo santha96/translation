{
  "nbformat": 4,
  "nbformat_minor": 0,
  "metadata": {
    "colab": {
      "name": "Convolutional_seq_to_seq_model.ipynb",
      "provenance": []
    },
    "kernelspec": {
      "name": "python3",
      "display_name": "Python 3"
    },
    "language_info": {
      "name": "python"
    }
  },
  "cells": [
    {
      "cell_type": "code",
      "metadata": {
        "id": "nCrIPSIS0cNs"
      },
      "source": [
        "import torch\n",
        "import torch.nn as nn\n",
        "import random\n",
        "import time\n",
        "import math\n",
        "import numpy as np\n",
        "import torch.nn.functional as F\n",
        "from torchtext.legacy import data\n",
        "from torchtext.legacy import datasets\n",
        "import spacy"
      ],
      "execution_count": null,
      "outputs": []
    },
    {
      "cell_type": "code",
      "metadata": {
        "colab": {
          "base_uri": "https://localhost:8080/"
        },
        "id": "aMwZ5vwD2Evm",
        "outputId": "9db25b27-a0fb-498c-dcec-249b740885c4"
      },
      "source": [
        "!python -m spacy download en_core_web_sm\n",
        "!python -m spacy download de_core_news_sm"
      ],
      "execution_count": null,
      "outputs": [
        {
          "output_type": "stream",
          "text": [
            "Requirement already satisfied: en_core_web_sm==2.2.5 from https://github.com/explosion/spacy-models/releases/download/en_core_web_sm-2.2.5/en_core_web_sm-2.2.5.tar.gz#egg=en_core_web_sm==2.2.5 in /usr/local/lib/python3.7/dist-packages (2.2.5)\n",
            "Requirement already satisfied: spacy>=2.2.2 in /usr/local/lib/python3.7/dist-packages (from en_core_web_sm==2.2.5) (2.2.4)\n",
            "Requirement already satisfied: requests<3.0.0,>=2.13.0 in /usr/local/lib/python3.7/dist-packages (from spacy>=2.2.2->en_core_web_sm==2.2.5) (2.23.0)\n",
            "Requirement already satisfied: blis<0.5.0,>=0.4.0 in /usr/local/lib/python3.7/dist-packages (from spacy>=2.2.2->en_core_web_sm==2.2.5) (0.4.1)\n",
            "Requirement already satisfied: wasabi<1.1.0,>=0.4.0 in /usr/local/lib/python3.7/dist-packages (from spacy>=2.2.2->en_core_web_sm==2.2.5) (0.8.2)\n",
            "Requirement already satisfied: plac<1.2.0,>=0.9.6 in /usr/local/lib/python3.7/dist-packages (from spacy>=2.2.2->en_core_web_sm==2.2.5) (1.1.3)\n",
            "Requirement already satisfied: srsly<1.1.0,>=1.0.2 in /usr/local/lib/python3.7/dist-packages (from spacy>=2.2.2->en_core_web_sm==2.2.5) (1.0.5)\n",
            "Requirement already satisfied: catalogue<1.1.0,>=0.0.7 in /usr/local/lib/python3.7/dist-packages (from spacy>=2.2.2->en_core_web_sm==2.2.5) (1.0.0)\n",
            "Requirement already satisfied: murmurhash<1.1.0,>=0.28.0 in /usr/local/lib/python3.7/dist-packages (from spacy>=2.2.2->en_core_web_sm==2.2.5) (1.0.5)\n",
            "Requirement already satisfied: numpy>=1.15.0 in /usr/local/lib/python3.7/dist-packages (from spacy>=2.2.2->en_core_web_sm==2.2.5) (1.19.5)\n",
            "Requirement already satisfied: cymem<2.1.0,>=2.0.2 in /usr/local/lib/python3.7/dist-packages (from spacy>=2.2.2->en_core_web_sm==2.2.5) (2.0.5)\n",
            "Requirement already satisfied: preshed<3.1.0,>=3.0.2 in /usr/local/lib/python3.7/dist-packages (from spacy>=2.2.2->en_core_web_sm==2.2.5) (3.0.5)\n",
            "Requirement already satisfied: setuptools in /usr/local/lib/python3.7/dist-packages (from spacy>=2.2.2->en_core_web_sm==2.2.5) (57.0.0)\n",
            "Requirement already satisfied: thinc==7.4.0 in /usr/local/lib/python3.7/dist-packages (from spacy>=2.2.2->en_core_web_sm==2.2.5) (7.4.0)\n",
            "Requirement already satisfied: tqdm<5.0.0,>=4.38.0 in /usr/local/lib/python3.7/dist-packages (from spacy>=2.2.2->en_core_web_sm==2.2.5) (4.41.1)\n",
            "Requirement already satisfied: certifi>=2017.4.17 in /usr/local/lib/python3.7/dist-packages (from requests<3.0.0,>=2.13.0->spacy>=2.2.2->en_core_web_sm==2.2.5) (2020.12.5)\n",
            "Requirement already satisfied: idna<3,>=2.5 in /usr/local/lib/python3.7/dist-packages (from requests<3.0.0,>=2.13.0->spacy>=2.2.2->en_core_web_sm==2.2.5) (2.10)\n",
            "Requirement already satisfied: chardet<4,>=3.0.2 in /usr/local/lib/python3.7/dist-packages (from requests<3.0.0,>=2.13.0->spacy>=2.2.2->en_core_web_sm==2.2.5) (3.0.4)\n",
            "Requirement already satisfied: urllib3!=1.25.0,!=1.25.1,<1.26,>=1.21.1 in /usr/local/lib/python3.7/dist-packages (from requests<3.0.0,>=2.13.0->spacy>=2.2.2->en_core_web_sm==2.2.5) (1.24.3)\n",
            "Requirement already satisfied: importlib-metadata>=0.20; python_version < \"3.8\" in /usr/local/lib/python3.7/dist-packages (from catalogue<1.1.0,>=0.0.7->spacy>=2.2.2->en_core_web_sm==2.2.5) (4.0.1)\n",
            "Requirement already satisfied: typing-extensions>=3.6.4; python_version < \"3.8\" in /usr/local/lib/python3.7/dist-packages (from importlib-metadata>=0.20; python_version < \"3.8\"->catalogue<1.1.0,>=0.0.7->spacy>=2.2.2->en_core_web_sm==2.2.5) (3.7.4.3)\n",
            "Requirement already satisfied: zipp>=0.5 in /usr/local/lib/python3.7/dist-packages (from importlib-metadata>=0.20; python_version < \"3.8\"->catalogue<1.1.0,>=0.0.7->spacy>=2.2.2->en_core_web_sm==2.2.5) (3.4.1)\n",
            "\u001b[38;5;2m✔ Download and installation successful\u001b[0m\n",
            "You can now load the model via spacy.load('en_core_web_sm')\n",
            "Requirement already satisfied: de_core_news_sm==2.2.5 from https://github.com/explosion/spacy-models/releases/download/de_core_news_sm-2.2.5/de_core_news_sm-2.2.5.tar.gz#egg=de_core_news_sm==2.2.5 in /usr/local/lib/python3.7/dist-packages (2.2.5)\n",
            "Requirement already satisfied: spacy>=2.2.2 in /usr/local/lib/python3.7/dist-packages (from de_core_news_sm==2.2.5) (2.2.4)\n",
            "Requirement already satisfied: blis<0.5.0,>=0.4.0 in /usr/local/lib/python3.7/dist-packages (from spacy>=2.2.2->de_core_news_sm==2.2.5) (0.4.1)\n",
            "Requirement already satisfied: preshed<3.1.0,>=3.0.2 in /usr/local/lib/python3.7/dist-packages (from spacy>=2.2.2->de_core_news_sm==2.2.5) (3.0.5)\n",
            "Requirement already satisfied: murmurhash<1.1.0,>=0.28.0 in /usr/local/lib/python3.7/dist-packages (from spacy>=2.2.2->de_core_news_sm==2.2.5) (1.0.5)\n",
            "Requirement already satisfied: catalogue<1.1.0,>=0.0.7 in /usr/local/lib/python3.7/dist-packages (from spacy>=2.2.2->de_core_news_sm==2.2.5) (1.0.0)\n",
            "Requirement already satisfied: numpy>=1.15.0 in /usr/local/lib/python3.7/dist-packages (from spacy>=2.2.2->de_core_news_sm==2.2.5) (1.19.5)\n",
            "Requirement already satisfied: setuptools in /usr/local/lib/python3.7/dist-packages (from spacy>=2.2.2->de_core_news_sm==2.2.5) (57.0.0)\n",
            "Requirement already satisfied: srsly<1.1.0,>=1.0.2 in /usr/local/lib/python3.7/dist-packages (from spacy>=2.2.2->de_core_news_sm==2.2.5) (1.0.5)\n",
            "Requirement already satisfied: wasabi<1.1.0,>=0.4.0 in /usr/local/lib/python3.7/dist-packages (from spacy>=2.2.2->de_core_news_sm==2.2.5) (0.8.2)\n",
            "Requirement already satisfied: plac<1.2.0,>=0.9.6 in /usr/local/lib/python3.7/dist-packages (from spacy>=2.2.2->de_core_news_sm==2.2.5) (1.1.3)\n",
            "Requirement already satisfied: thinc==7.4.0 in /usr/local/lib/python3.7/dist-packages (from spacy>=2.2.2->de_core_news_sm==2.2.5) (7.4.0)\n",
            "Requirement already satisfied: cymem<2.1.0,>=2.0.2 in /usr/local/lib/python3.7/dist-packages (from spacy>=2.2.2->de_core_news_sm==2.2.5) (2.0.5)\n",
            "Requirement already satisfied: requests<3.0.0,>=2.13.0 in /usr/local/lib/python3.7/dist-packages (from spacy>=2.2.2->de_core_news_sm==2.2.5) (2.23.0)\n",
            "Requirement already satisfied: tqdm<5.0.0,>=4.38.0 in /usr/local/lib/python3.7/dist-packages (from spacy>=2.2.2->de_core_news_sm==2.2.5) (4.41.1)\n",
            "Requirement already satisfied: importlib-metadata>=0.20; python_version < \"3.8\" in /usr/local/lib/python3.7/dist-packages (from catalogue<1.1.0,>=0.0.7->spacy>=2.2.2->de_core_news_sm==2.2.5) (4.0.1)\n",
            "Requirement already satisfied: certifi>=2017.4.17 in /usr/local/lib/python3.7/dist-packages (from requests<3.0.0,>=2.13.0->spacy>=2.2.2->de_core_news_sm==2.2.5) (2020.12.5)\n",
            "Requirement already satisfied: chardet<4,>=3.0.2 in /usr/local/lib/python3.7/dist-packages (from requests<3.0.0,>=2.13.0->spacy>=2.2.2->de_core_news_sm==2.2.5) (3.0.4)\n",
            "Requirement already satisfied: urllib3!=1.25.0,!=1.25.1,<1.26,>=1.21.1 in /usr/local/lib/python3.7/dist-packages (from requests<3.0.0,>=2.13.0->spacy>=2.2.2->de_core_news_sm==2.2.5) (1.24.3)\n",
            "Requirement already satisfied: idna<3,>=2.5 in /usr/local/lib/python3.7/dist-packages (from requests<3.0.0,>=2.13.0->spacy>=2.2.2->de_core_news_sm==2.2.5) (2.10)\n",
            "Requirement already satisfied: typing-extensions>=3.6.4; python_version < \"3.8\" in /usr/local/lib/python3.7/dist-packages (from importlib-metadata>=0.20; python_version < \"3.8\"->catalogue<1.1.0,>=0.0.7->spacy>=2.2.2->de_core_news_sm==2.2.5) (3.7.4.3)\n",
            "Requirement already satisfied: zipp>=0.5 in /usr/local/lib/python3.7/dist-packages (from importlib-metadata>=0.20; python_version < \"3.8\"->catalogue<1.1.0,>=0.0.7->spacy>=2.2.2->de_core_news_sm==2.2.5) (3.4.1)\n",
            "\u001b[38;5;2m✔ Download and installation successful\u001b[0m\n",
            "You can now load the model via spacy.load('de_core_news_sm')\n"
          ],
          "name": "stdout"
        }
      ]
    },
    {
      "cell_type": "code",
      "metadata": {
        "id": "oAx1I6Bg2IlK"
      },
      "source": [
        "en = spacy.load(\"en_core_web_sm\")\n",
        "de=spacy.load(\"de_core_news_sm\")"
      ],
      "execution_count": null,
      "outputs": []
    },
    {
      "cell_type": "code",
      "metadata": {
        "id": "RgOf3yFf2M_A"
      },
      "source": [
        "seed=1234\n",
        "\n",
        "random.seed(1234)\n",
        "np.random.seed(1234)\n",
        "torch.manual_seed(1234)\n",
        "torch.cuda.manual_seed(1234)\n",
        "torch.backends.cudnn.determininistic=True"
      ],
      "execution_count": null,
      "outputs": []
    },
    {
      "cell_type": "code",
      "metadata": {
        "id": "UW7JGP2j2WrV"
      },
      "source": [
        "if torch.cuda.is_available():\n",
        "  device=\"cuda\"\n",
        "else:\n",
        "  device=\"cpu\""
      ],
      "execution_count": null,
      "outputs": []
    },
    {
      "cell_type": "code",
      "metadata": {
        "colab": {
          "base_uri": "https://localhost:8080/",
          "height": 35
        },
        "id": "h5CajU3w2Zb4",
        "outputId": "92bd3910-9394-40df-8835-b8d420564f8c"
      },
      "source": [
        "device"
      ],
      "execution_count": null,
      "outputs": [
        {
          "output_type": "execute_result",
          "data": {
            "application/vnd.google.colaboratory.intrinsic+json": {
              "type": "string"
            },
            "text/plain": [
              "'cuda'"
            ]
          },
          "metadata": {
            "tags": []
          },
          "execution_count": 6
        }
      ]
    },
    {
      "cell_type": "code",
      "metadata": {
        "id": "EQ45ZuUz2Z88"
      },
      "source": [
        "def tokenize_de(text):\n",
        "  return [tok.text for tok in de.tokenizer(text)]\n",
        "\n",
        "def tokenize_en(text):\n",
        "  return [tok.text for tok in en.tokenizer(text)]"
      ],
      "execution_count": null,
      "outputs": []
    },
    {
      "cell_type": "code",
      "metadata": {
        "id": "HQ3wlSvY2chU"
      },
      "source": [
        "source=data.Field(init_token=\"<sos>\",eos_token=\"<eos>\",tokenize=tokenize_de,lower=True,batch_first=True)\n",
        "target=data.Field(init_token=\"<sos>\",eos_token=\"<eos>\",tokenize=tokenize_en,lower=True,batch_first=True)"
      ],
      "execution_count": null,
      "outputs": []
    },
    {
      "cell_type": "code",
      "metadata": {
        "id": "bXfQMY942frn"
      },
      "source": [
        "train_data,valid_data,test_data=datasets.Multi30k.splits(exts=(\".de\",\".en\"),fields=(source,target))"
      ],
      "execution_count": null,
      "outputs": []
    },
    {
      "cell_type": "code",
      "metadata": {
        "id": "GDLMbnsM2ms8"
      },
      "source": [
        "source.build_vocab(train_data,min_freq=2)\n",
        "target.build_vocab(train_data,min_freq=2)"
      ],
      "execution_count": null,
      "outputs": []
    },
    {
      "cell_type": "code",
      "metadata": {
        "id": "KkMIjuZH8ROv"
      },
      "source": [
        "train_iterator,valid_iterator,test_iterator=data.BucketIterator.splits((train_data,valid_data,test_data),batch_size=64,device=device)"
      ],
      "execution_count": null,
      "outputs": []
    },
    {
      "cell_type": "code",
      "metadata": {
        "id": "pVqKiTYQKIje",
        "colab": {
          "base_uri": "https://localhost:8080/"
        },
        "outputId": "e774138a-4897-42da-9b1a-b7f0c691007c"
      },
      "source": [
        "vars(train_data.examples[0])"
      ],
      "execution_count": null,
      "outputs": [
        {
          "output_type": "execute_result",
          "data": {
            "text/plain": [
              "{'src': ['zwei',\n",
              "  'junge',\n",
              "  'weiße',\n",
              "  'männer',\n",
              "  'sind',\n",
              "  'im',\n",
              "  'freien',\n",
              "  'in',\n",
              "  'der',\n",
              "  'nähe',\n",
              "  'vieler',\n",
              "  'büsche',\n",
              "  '.'],\n",
              " 'trg': ['two',\n",
              "  'young',\n",
              "  ',',\n",
              "  'white',\n",
              "  'males',\n",
              "  'are',\n",
              "  'outside',\n",
              "  'near',\n",
              "  'many',\n",
              "  'bushes',\n",
              "  '.']}"
            ]
          },
          "metadata": {
            "tags": []
          },
          "execution_count": 12
        }
      ]
    },
    {
      "cell_type": "code",
      "metadata": {
        "id": "Tf-QQjwx9pKq"
      },
      "source": [
        "batch=next(iter(train_iterator))"
      ],
      "execution_count": null,
      "outputs": []
    },
    {
      "cell_type": "code",
      "metadata": {
        "colab": {
          "base_uri": "https://localhost:8080/"
        },
        "id": "5aiRwv22snBn",
        "outputId": "5041ab76-93dc-4bba-d3d2-df89b988e944"
      },
      "source": [
        "len(source.vocab)"
      ],
      "execution_count": null,
      "outputs": [
        {
          "output_type": "execute_result",
          "data": {
            "text/plain": [
              "7855"
            ]
          },
          "metadata": {
            "tags": []
          },
          "execution_count": 14
        }
      ]
    },
    {
      "cell_type": "code",
      "metadata": {
        "id": "hahIlYnaIj-w",
        "colab": {
          "base_uri": "https://localhost:8080/"
        },
        "outputId": "ebed6892-345d-45bb-bed8-5f140bae19dd"
      },
      "source": [
        "len(target.vocab)"
      ],
      "execution_count": null,
      "outputs": [
        {
          "output_type": "execute_result",
          "data": {
            "text/plain": [
              "5893"
            ]
          },
          "metadata": {
            "tags": []
          },
          "execution_count": 15
        }
      ]
    },
    {
      "cell_type": "code",
      "metadata": {
        "id": "E5umGQIfmAk3"
      },
      "source": [
        "class encoder(nn.Module):\n",
        "  def __init__(self,input_dim,embed_dim,hidden_dim,n_layers,dropout,kernel_size,device,max_length=100):\n",
        "    super().__init__()\n",
        "    assert kernel_size % 2 == 1, \"Kernel size must be odd!\"\n",
        "    \n",
        "    self.input_dim=input_dim\n",
        "    self.embed_dim=embed_dim\n",
        "    self.hidden_dim=hidden_dim\n",
        "    self.device=device\n",
        "  #  self.scale = torch.sqrt(torch.FloatTensor([0.5])).to(device)\n",
        "    self.tok_embedding = nn.Embedding(input_dim,embed_dim)\n",
        "    self.pos_embedding = nn.Embedding(max_length,embed_dim)\n",
        "\n",
        "\n",
        "    self.emb2hid = nn.Linear(embed_dim,hidden_dim)\n",
        "    self.hid2emb = nn.Linear(hidden_dim,embed_dim)\n",
        "\n",
        "    self.convs=nn.ModuleList([nn.Conv1d(in_channels=hidden_dim,out_channels=hidden_dim*2,\n",
        "                                        kernel_size=kernel_size,padding=(kernel_size-1)//2) \n",
        "                                        for _ in range(n_layers)])\n",
        "    self.dropout =nn.Dropout(dropout)\n",
        "\n",
        "  def forward(self,src):\n",
        "      #src = [batch size,src_len]\n",
        "    batch_size = src.shape[0] \n",
        "    src_len = src.shape[1]\n",
        "\n",
        "    pos =torch.arange(0,src_len).unsqueeze(0).repeat(batch_size,1).to(self.device)\n",
        "      #pos=[batch_size,src_len]\n",
        "\n",
        "    embed = self.tok_embedding(src)\n",
        "    pos = self.pos_embedding(pos)\n",
        "    embed = self.dropout(embed+pos)\n",
        "    conv_input = self.emb2hid(embed)\n",
        "    conv_input = conv_input.permute(0,2,1)\n",
        "    \n",
        "\n",
        "    for i , conv in enumerate(self.convs):\n",
        "      conved = conv(self.dropout(conv_input))\n",
        "      conved = F.glu(conved,dim=1)\n",
        "      conved = (conv_input+conved)*0.7071067811865476\n",
        "      conv_input = conved\n",
        "\n",
        "      \n",
        "    conved = self.hid2emb(conved.permute(0,2,1))\n",
        "    combined = (conved+embed)*0.7071067811865476\n",
        "\n",
        "    return conved,combined\n",
        "\n",
        "\n",
        "\n"
      ],
      "execution_count": null,
      "outputs": []
    },
    {
      "cell_type": "code",
      "metadata": {
        "id": "53L5vSnfrmsM"
      },
      "source": [
        "class decoder(nn.Module):\n",
        "  def __init__(self,output_dim,embed_dim,hidden_dim,kernel_size,trg_pad_idx,n_layers,dropout,device,max_length=100):\n",
        "    super().__init__()\n",
        "    self.output_dim = output_dim\n",
        "    self.embed_dim = embed_dim\n",
        "    self.hidden_dim = hidden_dim\n",
        "    self.device = device\n",
        "    self.kernel_size=kernel_size\n",
        "    self.trg_pad_idx=trg_pad_idx\n",
        "    #self.scale = torch.sqrt(torch.FloatTensor([0.5])).to(device)\n",
        "\n",
        "    self.token_embed = nn.Embedding(output_dim,embed_dim)\n",
        "    self.pos_embed = nn.Embedding(max_length,embed_dim)\n",
        "    self.dropout = nn.Dropout(dropout)\n",
        "    self.emb2hid = nn.Linear(embed_dim,hidden_dim)\n",
        "    self.hid2emb = nn.Linear(hidden_dim,embed_dim)\n",
        "    self.lin_out = nn.Linear(embed_dim,output_dim)\n",
        "\n",
        "    self.convs=nn.ModuleList([nn.Conv1d(in_channels=hidden_dim,out_channels=hidden_dim*2,\n",
        "                                        kernel_size=kernel_size) \n",
        "                                        for _ in range(n_layers)])\n",
        "    \n",
        "  def calculate_attention(self,embed,conved,encoder_conved,encoder_combined):\n",
        "\n",
        "    conved_embed = self.hid2emb(conved.permute(0,2,1))\n",
        "    combined = (conved_embed+embed)*0.7071067811865476\n",
        "\n",
        "    energy = torch.matmul(combined,encoder_conved.permute(0,2,1))\n",
        "    attention = F.softmax(energy,dim=2)\n",
        "    attention_encoded = torch.matmul(attention,encoder_combined)\n",
        "    attention_encoded=self.emb2hid(attention_encoded)\n",
        "    attention_combined = (conved+attention_encoded.permute(0,2,1))*0.7071067811865476\n",
        "    return attention,attention_combined\n",
        "\n",
        "  \n",
        "  def forward(self,encoder_conved,encoder_combined,target):\n",
        "    batch_size = target.shape[0] \n",
        "    src_len = target.shape[1]\n",
        "    pos =torch.arange(0,src_len).unsqueeze(0).repeat(batch_size,1).to(self.device)\n",
        "\n",
        "    embed = self.token_embed(target)\n",
        "    pos = self.pos_embed(pos)\n",
        "\n",
        "    embed=self.dropout(embed+pos)\n",
        "    conv_input = self.emb2hid(embed)\n",
        "    conv_input = conv_input.permute(0,2,1)\n",
        "    #conv_input = [batch_size,hidden_dim,src_len]\n",
        "    batch_size = conv_input.shape[0]\n",
        "    hidden_dimension = conv_input.shape[1] \n",
        "\n",
        "    for i,conv in enumerate(self.convs):\n",
        "      conv_input =self.dropout(conv_input)\n",
        "      padding = torch.zeros(batch_size,hidden_dimension,self.kernel_size-1).fill_(trg_pad_idx).to(self.device)\n",
        "      padding_conv_input = torch.cat((padding,conv_input),dim=2)\n",
        "      conved = conv(padding_conv_input)\n",
        "      conved = F.glu(conved,dim=1)\n",
        "      attention,conved = self.calculate_attention(embed,conved,encoder_conved,encoder_combined)\n",
        "\n",
        "      conved = (conved+conv_input)*0.7071067811865476\n",
        "      conv_input=conved\n",
        "    \n",
        "    conved = self.hid2emb(conved.permute(0,2,1))\n",
        "    output = self.lin_out(conved)\n",
        "    return output,attention\n"
      ],
      "execution_count": null,
      "outputs": []
    },
    {
      "cell_type": "code",
      "metadata": {
        "id": "Rmcbn2bzqp5W"
      },
      "source": [
        "class seq2seq(nn.Module):\n",
        "  def __init__(self,encoder,decoder):\n",
        "    super().__init__()\n",
        "    self.encoder=encoder\n",
        "    self.decoder=decoder\n",
        "  \n",
        "  def forward(self,src,trg):\n",
        "    encoder_conved,encoder_combined=self.encoder(src)\n",
        "    output,attention =self.decoder(encoder_conved,encoder_combined,trg)\n",
        "    return output,attention\n"
      ],
      "execution_count": null,
      "outputs": []
    },
    {
      "cell_type": "code",
      "metadata": {
        "id": "Fq_8XZvq3CZa"
      },
      "source": [
        "input_dim=len(source.vocab)\n",
        "output_dim = len(target.vocab)\n",
        "hidden_dim = 512\n",
        "embed_dim =256\n",
        "kernel_size=3\n",
        "n_layers=10\n",
        "dropout=0.25\n",
        "trg_pad_idx=target.vocab.stoi[target.pad_token]"
      ],
      "execution_count": null,
      "outputs": []
    },
    {
      "cell_type": "code",
      "metadata": {
        "id": "wT_BGQzN4oo_",
        "colab": {
          "base_uri": "https://localhost:8080/"
        },
        "outputId": "a9825370-5fe3-4f1b-9d57-5b8e27185aa5"
      },
      "source": [
        "trg_pad_idx"
      ],
      "execution_count": null,
      "outputs": [
        {
          "output_type": "execute_result",
          "data": {
            "text/plain": [
              "1"
            ]
          },
          "metadata": {
            "tags": []
          },
          "execution_count": 133
        }
      ]
    },
    {
      "cell_type": "code",
      "metadata": {
        "id": "keLNCRCw7TSk",
        "colab": {
          "base_uri": "https://localhost:8080/",
          "height": 35
        },
        "outputId": "29883c59-93bb-4878-fad8-eb6445fd2787"
      },
      "source": [
        "device"
      ],
      "execution_count": null,
      "outputs": [
        {
          "output_type": "execute_result",
          "data": {
            "application/vnd.google.colaboratory.intrinsic+json": {
              "type": "string"
            },
            "text/plain": [
              "'cuda'"
            ]
          },
          "metadata": {
            "tags": []
          },
          "execution_count": 134
        }
      ]
    },
    {
      "cell_type": "code",
      "metadata": {
        "id": "rWR-lqz2F8Oe"
      },
      "source": [
        "enc=encoder(input_dim,embed_dim,hidden_dim,n_layers,dropout,kernel_size,device)"
      ],
      "execution_count": null,
      "outputs": []
    },
    {
      "cell_type": "code",
      "metadata": {
        "id": "8JqaZpG7F--u",
        "colab": {
          "base_uri": "https://localhost:8080/"
        },
        "outputId": "efd2472e-b2e9-453b-ee56-61b878f1438c"
      },
      "source": [
        "enc"
      ],
      "execution_count": null,
      "outputs": [
        {
          "output_type": "execute_result",
          "data": {
            "text/plain": [
              "encoder(\n",
              "  (tok_embedding): Embedding(7855, 256)\n",
              "  (pos_embedding): Embedding(100, 256)\n",
              "  (emb2hid): Linear(in_features=256, out_features=512, bias=True)\n",
              "  (hid2emb): Linear(in_features=512, out_features=256, bias=True)\n",
              "  (convs): ModuleList(\n",
              "    (0): Conv1d(512, 1024, kernel_size=(3,), stride=(1,), padding=(1,))\n",
              "    (1): Conv1d(512, 1024, kernel_size=(3,), stride=(1,), padding=(1,))\n",
              "    (2): Conv1d(512, 1024, kernel_size=(3,), stride=(1,), padding=(1,))\n",
              "    (3): Conv1d(512, 1024, kernel_size=(3,), stride=(1,), padding=(1,))\n",
              "    (4): Conv1d(512, 1024, kernel_size=(3,), stride=(1,), padding=(1,))\n",
              "    (5): Conv1d(512, 1024, kernel_size=(3,), stride=(1,), padding=(1,))\n",
              "    (6): Conv1d(512, 1024, kernel_size=(3,), stride=(1,), padding=(1,))\n",
              "    (7): Conv1d(512, 1024, kernel_size=(3,), stride=(1,), padding=(1,))\n",
              "    (8): Conv1d(512, 1024, kernel_size=(3,), stride=(1,), padding=(1,))\n",
              "    (9): Conv1d(512, 1024, kernel_size=(3,), stride=(1,), padding=(1,))\n",
              "  )\n",
              "  (dropout): Dropout(p=0.25, inplace=False)\n",
              ")"
            ]
          },
          "metadata": {
            "tags": []
          },
          "execution_count": 136
        }
      ]
    },
    {
      "cell_type": "code",
      "metadata": {
        "id": "Lj32N2siGC2V"
      },
      "source": [
        "dec=decoder(output_dim,embed_dim,hidden_dim,kernel_size,trg_pad_idx,n_layers,dropout,device)"
      ],
      "execution_count": null,
      "outputs": []
    },
    {
      "cell_type": "code",
      "metadata": {
        "id": "AGoIt9wPGFoW",
        "colab": {
          "base_uri": "https://localhost:8080/"
        },
        "outputId": "72ba9ac8-6d07-421a-8480-634743daaab9"
      },
      "source": [
        "dec"
      ],
      "execution_count": null,
      "outputs": [
        {
          "output_type": "execute_result",
          "data": {
            "text/plain": [
              "decoder(\n",
              "  (token_embed): Embedding(5893, 256)\n",
              "  (pos_embed): Embedding(100, 256)\n",
              "  (dropout): Dropout(p=0.25, inplace=False)\n",
              "  (emb2hid): Linear(in_features=256, out_features=512, bias=True)\n",
              "  (hid2emb): Linear(in_features=512, out_features=256, bias=True)\n",
              "  (lin_out): Linear(in_features=256, out_features=5893, bias=True)\n",
              "  (convs): ModuleList(\n",
              "    (0): Conv1d(512, 1024, kernel_size=(3,), stride=(1,))\n",
              "    (1): Conv1d(512, 1024, kernel_size=(3,), stride=(1,))\n",
              "    (2): Conv1d(512, 1024, kernel_size=(3,), stride=(1,))\n",
              "    (3): Conv1d(512, 1024, kernel_size=(3,), stride=(1,))\n",
              "    (4): Conv1d(512, 1024, kernel_size=(3,), stride=(1,))\n",
              "    (5): Conv1d(512, 1024, kernel_size=(3,), stride=(1,))\n",
              "    (6): Conv1d(512, 1024, kernel_size=(3,), stride=(1,))\n",
              "    (7): Conv1d(512, 1024, kernel_size=(3,), stride=(1,))\n",
              "    (8): Conv1d(512, 1024, kernel_size=(3,), stride=(1,))\n",
              "    (9): Conv1d(512, 1024, kernel_size=(3,), stride=(1,))\n",
              "  )\n",
              ")"
            ]
          },
          "metadata": {
            "tags": []
          },
          "execution_count": 138
        }
      ]
    },
    {
      "cell_type": "code",
      "metadata": {
        "id": "NY2BOGW6JIGq",
        "colab": {
          "base_uri": "https://localhost:8080/",
          "height": 35
        },
        "outputId": "859cc8e8-cc43-4918-e188-73bc2c88832d"
      },
      "source": [
        "device"
      ],
      "execution_count": null,
      "outputs": [
        {
          "output_type": "execute_result",
          "data": {
            "application/vnd.google.colaboratory.intrinsic+json": {
              "type": "string"
            },
            "text/plain": [
              "'cuda'"
            ]
          },
          "metadata": {
            "tags": []
          },
          "execution_count": 139
        }
      ]
    },
    {
      "cell_type": "code",
      "metadata": {
        "id": "qEHrkrRyGGcn"
      },
      "source": [
        "model=seq2seq(enc,dec).to(device)"
      ],
      "execution_count": null,
      "outputs": []
    },
    {
      "cell_type": "code",
      "metadata": {
        "id": "KKCO4lJ2GJKl",
        "colab": {
          "base_uri": "https://localhost:8080/"
        },
        "outputId": "f170a01c-7bc1-4d50-da10-87bda7270ec3"
      },
      "source": [
        "model"
      ],
      "execution_count": null,
      "outputs": [
        {
          "output_type": "execute_result",
          "data": {
            "text/plain": [
              "seq2seq(\n",
              "  (encoder): encoder(\n",
              "    (tok_embedding): Embedding(7855, 256)\n",
              "    (pos_embedding): Embedding(100, 256)\n",
              "    (emb2hid): Linear(in_features=256, out_features=512, bias=True)\n",
              "    (hid2emb): Linear(in_features=512, out_features=256, bias=True)\n",
              "    (convs): ModuleList(\n",
              "      (0): Conv1d(512, 1024, kernel_size=(3,), stride=(1,), padding=(1,))\n",
              "      (1): Conv1d(512, 1024, kernel_size=(3,), stride=(1,), padding=(1,))\n",
              "      (2): Conv1d(512, 1024, kernel_size=(3,), stride=(1,), padding=(1,))\n",
              "      (3): Conv1d(512, 1024, kernel_size=(3,), stride=(1,), padding=(1,))\n",
              "      (4): Conv1d(512, 1024, kernel_size=(3,), stride=(1,), padding=(1,))\n",
              "      (5): Conv1d(512, 1024, kernel_size=(3,), stride=(1,), padding=(1,))\n",
              "      (6): Conv1d(512, 1024, kernel_size=(3,), stride=(1,), padding=(1,))\n",
              "      (7): Conv1d(512, 1024, kernel_size=(3,), stride=(1,), padding=(1,))\n",
              "      (8): Conv1d(512, 1024, kernel_size=(3,), stride=(1,), padding=(1,))\n",
              "      (9): Conv1d(512, 1024, kernel_size=(3,), stride=(1,), padding=(1,))\n",
              "    )\n",
              "    (dropout): Dropout(p=0.25, inplace=False)\n",
              "  )\n",
              "  (decoder): decoder(\n",
              "    (token_embed): Embedding(5893, 256)\n",
              "    (pos_embed): Embedding(100, 256)\n",
              "    (dropout): Dropout(p=0.25, inplace=False)\n",
              "    (emb2hid): Linear(in_features=256, out_features=512, bias=True)\n",
              "    (hid2emb): Linear(in_features=512, out_features=256, bias=True)\n",
              "    (lin_out): Linear(in_features=256, out_features=5893, bias=True)\n",
              "    (convs): ModuleList(\n",
              "      (0): Conv1d(512, 1024, kernel_size=(3,), stride=(1,))\n",
              "      (1): Conv1d(512, 1024, kernel_size=(3,), stride=(1,))\n",
              "      (2): Conv1d(512, 1024, kernel_size=(3,), stride=(1,))\n",
              "      (3): Conv1d(512, 1024, kernel_size=(3,), stride=(1,))\n",
              "      (4): Conv1d(512, 1024, kernel_size=(3,), stride=(1,))\n",
              "      (5): Conv1d(512, 1024, kernel_size=(3,), stride=(1,))\n",
              "      (6): Conv1d(512, 1024, kernel_size=(3,), stride=(1,))\n",
              "      (7): Conv1d(512, 1024, kernel_size=(3,), stride=(1,))\n",
              "      (8): Conv1d(512, 1024, kernel_size=(3,), stride=(1,))\n",
              "      (9): Conv1d(512, 1024, kernel_size=(3,), stride=(1,))\n",
              "    )\n",
              "  )\n",
              ")"
            ]
          },
          "metadata": {
            "tags": []
          },
          "execution_count": 141
        }
      ]
    },
    {
      "cell_type": "code",
      "metadata": {
        "id": "7lvsh2BT69g5"
      },
      "source": [
        "CUDA_LAUNCH_BLOCKING=1"
      ],
      "execution_count": null,
      "outputs": []
    },
    {
      "cell_type": "code",
      "metadata": {
        "id": "QiKyFLZGGJi3",
        "colab": {
          "base_uri": "https://localhost:8080/"
        },
        "outputId": "4a275beb-e7c0-4cb9-bc37-16effda1c2fb"
      },
      "source": [
        "def init_weights(m):\n",
        "    for name, param in m.named_parameters():\n",
        "        if 'weight' in name:\n",
        "            nn.init.normal_(param.data, mean=0, std=0.01)\n",
        "        else:\n",
        "            nn.init.constant_(param.data, 0)\n",
        "            \n",
        "model.apply(init_weights)"
      ],
      "execution_count": null,
      "outputs": [
        {
          "output_type": "execute_result",
          "data": {
            "text/plain": [
              "seq2seq(\n",
              "  (encoder): encoder(\n",
              "    (tok_embedding): Embedding(7855, 256)\n",
              "    (pos_embedding): Embedding(100, 256)\n",
              "    (emb2hid): Linear(in_features=256, out_features=512, bias=True)\n",
              "    (hid2emb): Linear(in_features=512, out_features=256, bias=True)\n",
              "    (convs): ModuleList(\n",
              "      (0): Conv1d(512, 1024, kernel_size=(3,), stride=(1,), padding=(1,))\n",
              "      (1): Conv1d(512, 1024, kernel_size=(3,), stride=(1,), padding=(1,))\n",
              "      (2): Conv1d(512, 1024, kernel_size=(3,), stride=(1,), padding=(1,))\n",
              "      (3): Conv1d(512, 1024, kernel_size=(3,), stride=(1,), padding=(1,))\n",
              "      (4): Conv1d(512, 1024, kernel_size=(3,), stride=(1,), padding=(1,))\n",
              "      (5): Conv1d(512, 1024, kernel_size=(3,), stride=(1,), padding=(1,))\n",
              "      (6): Conv1d(512, 1024, kernel_size=(3,), stride=(1,), padding=(1,))\n",
              "      (7): Conv1d(512, 1024, kernel_size=(3,), stride=(1,), padding=(1,))\n",
              "      (8): Conv1d(512, 1024, kernel_size=(3,), stride=(1,), padding=(1,))\n",
              "      (9): Conv1d(512, 1024, kernel_size=(3,), stride=(1,), padding=(1,))\n",
              "    )\n",
              "    (dropout): Dropout(p=0.25, inplace=False)\n",
              "  )\n",
              "  (decoder): decoder(\n",
              "    (token_embed): Embedding(5893, 256)\n",
              "    (pos_embed): Embedding(100, 256)\n",
              "    (dropout): Dropout(p=0.25, inplace=False)\n",
              "    (emb2hid): Linear(in_features=256, out_features=512, bias=True)\n",
              "    (hid2emb): Linear(in_features=512, out_features=256, bias=True)\n",
              "    (lin_out): Linear(in_features=256, out_features=5893, bias=True)\n",
              "    (convs): ModuleList(\n",
              "      (0): Conv1d(512, 1024, kernel_size=(3,), stride=(1,))\n",
              "      (1): Conv1d(512, 1024, kernel_size=(3,), stride=(1,))\n",
              "      (2): Conv1d(512, 1024, kernel_size=(3,), stride=(1,))\n",
              "      (3): Conv1d(512, 1024, kernel_size=(3,), stride=(1,))\n",
              "      (4): Conv1d(512, 1024, kernel_size=(3,), stride=(1,))\n",
              "      (5): Conv1d(512, 1024, kernel_size=(3,), stride=(1,))\n",
              "      (6): Conv1d(512, 1024, kernel_size=(3,), stride=(1,))\n",
              "      (7): Conv1d(512, 1024, kernel_size=(3,), stride=(1,))\n",
              "      (8): Conv1d(512, 1024, kernel_size=(3,), stride=(1,))\n",
              "      (9): Conv1d(512, 1024, kernel_size=(3,), stride=(1,))\n",
              "    )\n",
              "  )\n",
              ")"
            ]
          },
          "metadata": {
            "tags": []
          },
          "execution_count": 143
        }
      ]
    },
    {
      "cell_type": "code",
      "metadata": {
        "id": "B7O77hHGGMUl",
        "colab": {
          "base_uri": "https://localhost:8080/"
        },
        "outputId": "f6988540-d75b-4a1b-a822-3d6383145745"
      },
      "source": [
        "def count_parameters(model):\n",
        "    return sum(p.numel() for p in model.parameters() if p.requires_grad)\n",
        "\n",
        "print(f'The model has {count_parameters(model):,} trainable parameters')"
      ],
      "execution_count": null,
      "outputs": [
        {
          "output_type": "stream",
          "text": [
            "The model has 37,088,773 trainable parameters\n"
          ],
          "name": "stdout"
        }
      ]
    },
    {
      "cell_type": "code",
      "metadata": {
        "id": "9KmULGGcGO-2"
      },
      "source": [
        "optim = torch.optim.Adam(model.parameters())"
      ],
      "execution_count": null,
      "outputs": []
    },
    {
      "cell_type": "code",
      "metadata": {
        "id": "Q9Kb1ZcHGRgM"
      },
      "source": [
        "TRG_PAD_IDX = target.vocab.stoi[target.pad_token]\n",
        "\n",
        "loss_fn = nn.CrossEntropyLoss(ignore_index = TRG_PAD_IDX)"
      ],
      "execution_count": null,
      "outputs": []
    },
    {
      "cell_type": "code",
      "metadata": {
        "id": "7GZrRCfmAchc"
      },
      "source": [
        "def train(model, iterator, optimizer, criterion, clip):\n",
        "    \n",
        "    model.train()\n",
        "    \n",
        "    epoch_loss = 0\n",
        "    \n",
        "    for i, batch in enumerate(iterator):\n",
        "        \n",
        "        src = batch.src\n",
        "        trg = batch.trg\n",
        "        \n",
        "        optimizer.zero_grad()\n",
        "        \n",
        "        output, _ = model(src, trg[:,:-1])\n",
        "        \n",
        "        #output = [batch size, trg len - 1, output dim]\n",
        "        #trg = [batch size, trg len]\n",
        "        \n",
        "        output_dim = output.shape[-1]\n",
        "        \n",
        "        output = output.contiguous().view(-1, output_dim)\n",
        "        trg = trg[:,1:].contiguous().view(-1)\n",
        "        \n",
        "        #output = [batch size * trg len - 1, output dim]\n",
        "        #trg = [batch size * trg len - 1]\n",
        "        \n",
        "        loss = criterion(output, trg)\n",
        "        \n",
        "        loss.backward()\n",
        "        \n",
        "        torch.nn.utils.clip_grad_norm_(model.parameters(), clip)\n",
        "        \n",
        "        optimizer.step()\n",
        "        \n",
        "        epoch_loss += loss.item()\n",
        "        \n",
        "    return epoch_loss / len(iterator)"
      ],
      "execution_count": null,
      "outputs": []
    },
    {
      "cell_type": "code",
      "metadata": {
        "id": "mhjYeV0pGWZx"
      },
      "source": [
        "def evaluate(model,iterator,loss_fn):\n",
        "  model.eval()\n",
        "  epoch_loss=0\n",
        "  with torch.no_grad():\n",
        "    for i,batch in enumerate(iterator):\n",
        "      src=batch.src\n",
        "      trg=batch.trg\n",
        "      pred,_=model(src,trg[:,:-1])\n",
        "      pred_dim=pred.shape[-1]\n",
        "      trg=trg[:,1:].contiguous().view(-1)\n",
        "   # print(trg.shape)\n",
        "      pred = pred.contiguous().view(-1, pred_dim)\n",
        "      loss=loss_fn(pred,trg)\n",
        "      epoch_loss+=loss.item()\n",
        "  return epoch_loss/len(iterator)"
      ],
      "execution_count": null,
      "outputs": []
    },
    {
      "cell_type": "code",
      "metadata": {
        "id": "QGZXLPemGZ0c"
      },
      "source": [
        "import math\n",
        "import time"
      ],
      "execution_count": null,
      "outputs": []
    },
    {
      "cell_type": "code",
      "metadata": {
        "id": "MDw7VcArGbZG"
      },
      "source": [
        "def epoch_time(start_time, end_time):\n",
        "    elapsed_time = end_time - start_time\n",
        "    elapsed_mins = int(elapsed_time / 60)\n",
        "    elapsed_secs = int(elapsed_time - (elapsed_mins * 60))\n",
        "    return elapsed_mins, elapsed_secs"
      ],
      "execution_count": null,
      "outputs": []
    },
    {
      "cell_type": "code",
      "metadata": {
        "id": "Xruxb93KGdvi",
        "colab": {
          "base_uri": "https://localhost:8080/"
        },
        "outputId": "bc24c2ae-b3c0-4c21-e9d5-4e9e5448c336"
      },
      "source": [
        "epochs=10\n",
        "clip=0.1\n",
        "best_valid_loss = float('inf')\n",
        "for epoch in range(0,epochs):\n",
        "  start_time = time.time()\n",
        "  train_loss = train(model,train_iterator,optim,loss_fn,clip)\n",
        "  valid_loss=evaluate(model,valid_iterator,loss_fn)\n",
        "  end_time =time.time()\n",
        "  epoch_mins, epoch_secs = epoch_time(start_time, end_time)\n",
        "  if valid_loss < best_valid_loss:\n",
        "        best_valid_loss = valid_loss\n",
        "        torch.save(model.state_dict(), 'getoen-model.pt')\n",
        "    \n",
        "    \n",
        "  print(f'Epoch: {epoch+1:02} | Time: {epoch_mins}m {epoch_secs}s')\n",
        "  print(f'\\tTrain Loss: {train_loss:.3f} | Train PPL: {math.exp(train_loss):7.3f}')\n",
        "  print(f'\\t Val. Loss: {valid_loss:.3f} |  Val. PPL: {math.exp(valid_loss):7.3f}')\n"
      ],
      "execution_count": null,
      "outputs": [
        {
          "output_type": "stream",
          "text": [
            "Epoch: 01 | Time: 1m 4s\n",
            "\tTrain Loss: 3.430 | Train PPL:  30.872\n",
            "\t Val. Loss: 2.749 |  Val. PPL:  15.624\n",
            "Epoch: 02 | Time: 1m 4s\n",
            "\tTrain Loss: 2.663 | Train PPL:  14.340\n",
            "\t Val. Loss: 2.201 |  Val. PPL:   9.036\n",
            "Epoch: 03 | Time: 1m 4s\n",
            "\tTrain Loss: 2.212 | Train PPL:   9.133\n",
            "\t Val. Loss: 1.963 |  Val. PPL:   7.120\n",
            "Epoch: 04 | Time: 1m 4s\n",
            "\tTrain Loss: 1.938 | Train PPL:   6.944\n",
            "\t Val. Loss: 1.841 |  Val. PPL:   6.303\n",
            "Epoch: 05 | Time: 1m 4s\n",
            "\tTrain Loss: 1.746 | Train PPL:   5.732\n",
            "\t Val. Loss: 1.758 |  Val. PPL:   5.800\n",
            "Epoch: 06 | Time: 1m 4s\n",
            "\tTrain Loss: 1.604 | Train PPL:   4.974\n",
            "\t Val. Loss: 1.736 |  Val. PPL:   5.674\n",
            "Epoch: 07 | Time: 1m 4s\n",
            "\tTrain Loss: 1.495 | Train PPL:   4.460\n",
            "\t Val. Loss: 1.692 |  Val. PPL:   5.432\n",
            "Epoch: 08 | Time: 1m 4s\n",
            "\tTrain Loss: 1.404 | Train PPL:   4.069\n",
            "\t Val. Loss: 1.664 |  Val. PPL:   5.280\n",
            "Epoch: 09 | Time: 1m 4s\n",
            "\tTrain Loss: 1.327 | Train PPL:   3.770\n",
            "\t Val. Loss: 1.659 |  Val. PPL:   5.252\n",
            "Epoch: 10 | Time: 1m 4s\n",
            "\tTrain Loss: 1.257 | Train PPL:   3.516\n",
            "\t Val. Loss: 1.668 |  Val. PPL:   5.303\n"
          ],
          "name": "stdout"
        }
      ]
    },
    {
      "cell_type": "code",
      "metadata": {
        "colab": {
          "base_uri": "https://localhost:8080/"
        },
        "id": "S5AXAkUN8r-x",
        "outputId": "7ee1ed8b-06d5-4f04-e4ab-be91ff1c513a"
      },
      "source": [
        "model.load_state_dict(torch.load('getoen-model.pt'))\n",
        "\n",
        "test_loss = evaluate(model, test_iterator, loss_fn)\n",
        "\n",
        "print(f'| Test Loss: {test_loss:.3f} | Test PPL: {math.exp(test_loss):7.3f} |')"
      ],
      "execution_count": null,
      "outputs": [
        {
          "output_type": "stream",
          "text": [
            "| Test Loss: 1.730 | Test PPL:   5.640 |\n"
          ],
          "name": "stdout"
        }
      ]
    },
    {
      "cell_type": "code",
      "metadata": {
        "id": "S1Xg4SR2Da0P"
      },
      "source": [
        "def translate_sentence(sentence,source,target,model,device,max_len=50):\n",
        "  model.eval()\n",
        "  token=[]\n",
        "  for word in sentence:\n",
        "    token.append(source.vocab.stoi[word])\n",
        "  \n",
        "  token=[source.vocab.stoi[source.init_token]]+token+[source.vocab.stoi[source.eos_token]]\n",
        "  token_tensor=torch.tensor(token,dtype=torch.long).unsqueeze(0).to(device)\n",
        "\n",
        "  with torch.no_grad():\n",
        "    encoder_conved,encoder_combined = model.encoder(token_tensor)\n",
        "  \n",
        "  trg_indexes = [target.vocab.stoi[target.init_token]]\n",
        "\n",
        "  for i in range(max_len):\n",
        "\n",
        "        trg_tensor = torch.LongTensor(trg_indexes).unsqueeze(0).to(device)\n",
        "\n",
        "        with torch.no_grad():\n",
        "          output,attention = model.decoder(encoder_conved,encoder_combined,trg_tensor)\n",
        "\n",
        "        pred_token=output.argmax(2)[:,-1].item()\n",
        "        trg_indexes.append(pred_token)\n",
        "\n",
        "        if pred_token == target.vocab.stoi[target.eos_token]:\n",
        "          break\n",
        "    \n",
        "  trg_tokens = [target.vocab.itos[i] for i in trg_indexes]\n",
        "    \n",
        "  return trg_tokens[1:], attention      \n",
        "\n",
        "        \n",
        "  \n",
        "\n",
        "\n",
        "\n"
      ],
      "execution_count": null,
      "outputs": []
    },
    {
      "cell_type": "code",
      "metadata": {
        "colab": {
          "base_uri": "https://localhost:8080/"
        },
        "id": "w8BelEk4IoV4",
        "outputId": "d35f5c1a-0148-4e63-e82c-c774175758dd"
      },
      "source": [
        "\n",
        "example_idx = 10\n",
        "\n",
        "src = vars(train_data.examples[example_idx])['src']\n",
        "trg = vars(train_data.examples[example_idx])['trg']\n",
        "\n",
        "print(f'src = {src}')\n",
        "print(f'trg = {trg}')"
      ],
      "execution_count": null,
      "outputs": [
        {
          "output_type": "stream",
          "text": [
            "src = ['eine', 'ballettklasse', 'mit', 'fünf', 'mädchen', ',', 'die', 'nacheinander', 'springen', '.']\n",
            "trg = ['a', 'ballet', 'class', 'of', 'five', 'girls', 'jumping', 'in', 'sequence', '.']\n"
          ],
          "name": "stdout"
        }
      ]
    },
    {
      "cell_type": "code",
      "metadata": {
        "colab": {
          "base_uri": "https://localhost:8080/"
        },
        "id": "wUuep5RRIpCd",
        "outputId": "e38de3a1-9127-45be-c15c-7bccc6dc95d6"
      },
      "source": [
        "translation,attention=translate_sentence(src,source,target,model,device)\n",
        "translation"
      ],
      "execution_count": null,
      "outputs": [
        {
          "output_type": "execute_result",
          "data": {
            "text/plain": [
              "['a',\n",
              " 'ballet',\n",
              " 'class',\n",
              " 'with',\n",
              " 'five',\n",
              " 'girls',\n",
              " 'jumping',\n",
              " 'in',\n",
              " 'sequence',\n",
              " '.',\n",
              " '<eos>']"
            ]
          },
          "metadata": {
            "tags": []
          },
          "execution_count": 207
        }
      ]
    },
    {
      "cell_type": "code",
      "metadata": {
        "id": "QtA8kmoXTdT1"
      },
      "source": [
        "import matplotlib.pyplot as plt\n",
        "import matplotlib.ticker as ticker\n",
        "\n",
        "import spacy\n",
        "import numpy as np"
      ],
      "execution_count": null,
      "outputs": []
    },
    {
      "cell_type": "code",
      "metadata": {
        "id": "krRDEyqoMWGQ"
      },
      "source": [
        "def display_attention(sentence, translation, attention):\n",
        "    \n",
        "    fig = plt.figure(figsize=(10,10))\n",
        "    ax = fig.add_subplot(111)\n",
        "        \n",
        "    attention = attention.squeeze(0).cpu().detach().numpy()\n",
        "    \n",
        "    cax = ax.matshow(attention, cmap='bone')\n",
        "   \n",
        "    ax.tick_params(labelsize=15)\n",
        "    ax.set_xticklabels(['']+['<sos>']+[t.lower() for t in sentence]+['<eos>'], \n",
        "                       rotation=45)\n",
        "    ax.set_yticklabels(['']+translation)\n",
        "\n",
        "    ax.xaxis.set_major_locator(ticker.MultipleLocator(1))\n",
        "    ax.yaxis.set_major_locator(ticker.MultipleLocator(1))\n",
        "\n",
        "    plt.show()\n",
        "    plt.close()"
      ],
      "execution_count": null,
      "outputs": []
    },
    {
      "cell_type": "code",
      "metadata": {
        "colab": {
          "base_uri": "https://localhost:8080/",
          "height": 637
        },
        "id": "1Muz5vr3TUaS",
        "outputId": "9e5792a9-d69f-4b02-ce0b-6af772bccb0c"
      },
      "source": [
        "display_attention(src,translation,attention)"
      ],
      "execution_count": null,
      "outputs": [
        {
          "output_type": "display_data",
          "data": {
            "image/png": "[encoded data removed]",
            "text/plain": [
              "<Figure size 720x720 with 1 Axes>"
            ]
          },
          "metadata": {
            "tags": [],
            "needs_background": "light"
          }
        }
      ]
    },
    {
      "cell_type": "code",
      "metadata": {
        "colab": {
          "base_uri": "https://localhost:8080/"
        },
        "id": "bDRIcQqSTbxl",
        "outputId": "9deb881d-0848-468a-b0cb-e6babd42142a"
      },
      "source": [
        "example_idx = 4\n",
        "\n",
        "src = vars(train_data.examples[example_idx])['src']\n",
        "trg = vars(train_data.examples[example_idx])['trg']\n",
        "\n",
        "print(f'src = {src}')\n",
        "print(f'trg = {trg}')"
      ],
      "execution_count": null,
      "outputs": [
        {
          "output_type": "stream",
          "text": [
            "src = ['zwei', 'männer', 'stehen', 'am', 'herd', 'und', 'bereiten', 'essen', 'zu', '.']\n",
            "trg = ['two', 'men', 'are', 'at', 'the', 'stove', 'preparing', 'food', '.']\n"
          ],
          "name": "stdout"
        }
      ]
    },
    {
      "cell_type": "code",
      "metadata": {
        "colab": {
          "base_uri": "https://localhost:8080/"
        },
        "id": "vBMWM_P2T4Va",
        "outputId": "9e29fd6e-d4de-411e-aca2-c2b08cd41635"
      },
      "source": [
        "translation,attention=translate_sentence(src,source,target,model,device)\n",
        "translation"
      ],
      "execution_count": null,
      "outputs": [
        {
          "output_type": "execute_result",
          "data": {
            "text/plain": [
              "['two',\n",
              " 'men',\n",
              " 'are',\n",
              " 'standing',\n",
              " 'at',\n",
              " 'the',\n",
              " 'stove',\n",
              " 'preparing',\n",
              " 'food',\n",
              " '.',\n",
              " '<eos>']"
            ]
          },
          "metadata": {
            "tags": []
          },
          "execution_count": 217
        }
      ]
    },
    {
      "cell_type": "code",
      "metadata": {
        "colab": {
          "base_uri": "https://localhost:8080/",
          "height": 608
        },
        "id": "MWeo-nAjT8W5",
        "outputId": "9b88f9e9-5309-44a1-f17e-184d4d39085b"
      },
      "source": [
        "display_attention(src,translation,attention)"
      ],
      "execution_count": null,
      "outputs": [
        {
          "output_type": "display_data",
          "data": {
            "image/png": "[encoded data removed]",
            "text/plain": [
              "<Figure size 720x720 with 1 Axes>"
            ]
          },
          "metadata": {
            "tags": [],
            "needs_background": "light"
          }
        }
      ]
    },
    {
      "cell_type": "code",
      "metadata": {
        "id": "ODwcOiLIUA7E"
      },
      "source": [
        "from torchtext.data.metrics import bleu_score\n",
        "def calculate_bleu(data, src_field, trg_field, model, device, max_len = 50):\n",
        "    \n",
        "    trgs = []\n",
        "    pred_trgs = []\n",
        "    \n",
        "    for datum in data:\n",
        "        \n",
        "        src = vars(datum)['src']\n",
        "        trg = vars(datum)['trg']\n",
        "        \n",
        "        pred_trg, _ = translate_sentence(src, src_field, trg_field, model, device, max_len)\n",
        "        \n",
        "        #cut off <eos> token\n",
        "        pred_trg = pred_trg[:-1]\n",
        "        \n",
        "        pred_trgs.append(pred_trg)\n",
        "        trgs.append([trg])\n",
        "        \n",
        "    return bleu_score(pred_trgs, trgs)"
      ],
      "execution_count": null,
      "outputs": []
    },
    {
      "cell_type": "code",
      "metadata": {
        "colab": {
          "base_uri": "https://localhost:8080/"
        },
        "id": "Cb43KoOPUXY7",
        "outputId": "3e675c8c-4afa-4f41-d74e-921c408be2ca"
      },
      "source": [
        "bleu_score = calculate_bleu(test_data, source, target, model, device)\n",
        "\n",
        "print(f'BLEU score = {bleu_score*100:.2f}')"
      ],
      "execution_count": null,
      "outputs": [
        {
          "output_type": "stream",
          "text": [
            "BLEU score = 37.65\n"
          ],
          "name": "stdout"
        }
      ]
    },
    {
      "cell_type": "code",
      "metadata": {
        "id": "7rAiL90pUzlu"
      },
      "source": [
        ""
      ],
      "execution_count": null,
      "outputs": []
    },
    {
      "cell_type": "code",
      "metadata": {
        "id": "5BH9bHmWqfHg"
      },
      "source": [
        ""
      ],
      "execution_count": null,
      "outputs": []
    }
  ]
}
