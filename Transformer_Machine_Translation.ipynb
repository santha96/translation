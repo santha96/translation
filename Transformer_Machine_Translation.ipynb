{
  "nbformat": 4,
  "nbformat_minor": 0,
  "metadata": {
    "accelerator": "GPU",
    "colab": {
      "name": "Transformer Machine Translation.ipynb",
      "provenance": []
    },
    "kernelspec": {
      "display_name": "Python 3",
      "name": "python3"
    },
    "language_info": {
      "name": "python"
    }
  },
  "cells": [
    {
      "cell_type": "code",
      "metadata": {
        "id": "7jRC5H9RatK3"
      },
      "source": [
        "import torch\n",
        "import torch.nn as nn\n",
        "from torchtext.legacy import datasets\n",
        "from torchtext.legacy import data\n",
        "import numpy as np\n",
        "import random\n",
        "import time\n",
        "import math\n",
        "import matplotlib.pyplot as plt\n",
        "import spacy\n"
      ],
      "execution_count": null,
      "outputs": []
    },
    {
      "cell_type": "code",
      "metadata": {
        "colab": {
          "base_uri": "https://localhost:8080/"
        },
        "id": "MBriqdU9bLYs",
        "outputId": "9ee6ec53-9dd4-472e-e8d7-111e68268213"
      },
      "source": [
        "!python -m spacy download en_core_web_sm\n",
        "!python -m spacy download de_core_news_sm"
      ],
      "execution_count": null,
      "outputs": [
        {
          "output_type": "stream",
          "text": [
            "Requirement already satisfied: en_core_web_sm==2.2.5 from https://github.com/explosion/spacy-models/releases/download/en_core_web_sm-2.2.5/en_core_web_sm-2.2.5.tar.gz#egg=en_core_web_sm==2.2.5 in /usr/local/lib/python3.7/dist-packages (2.2.5)\n",
            "Requirement already satisfied: spacy>=2.2.2 in /usr/local/lib/python3.7/dist-packages (from en_core_web_sm==2.2.5) (2.2.4)\n",
            "Requirement already satisfied: blis<0.5.0,>=0.4.0 in /usr/local/lib/python3.7/dist-packages (from spacy>=2.2.2->en_core_web_sm==2.2.5) (0.4.1)\n",
            "Requirement already satisfied: plac<1.2.0,>=0.9.6 in /usr/local/lib/python3.7/dist-packages (from spacy>=2.2.2->en_core_web_sm==2.2.5) (1.1.3)\n",
            "Requirement already satisfied: cymem<2.1.0,>=2.0.2 in /usr/local/lib/python3.7/dist-packages (from spacy>=2.2.2->en_core_web_sm==2.2.5) (2.0.5)\n",
            "Requirement already satisfied: murmurhash<1.1.0,>=0.28.0 in /usr/local/lib/python3.7/dist-packages (from spacy>=2.2.2->en_core_web_sm==2.2.5) (1.0.5)\n",
            "Requirement already satisfied: srsly<1.1.0,>=1.0.2 in /usr/local/lib/python3.7/dist-packages (from spacy>=2.2.2->en_core_web_sm==2.2.5) (1.0.5)\n",
            "Requirement already satisfied: wasabi<1.1.0,>=0.4.0 in /usr/local/lib/python3.7/dist-packages (from spacy>=2.2.2->en_core_web_sm==2.2.5) (0.8.2)\n",
            "Requirement already satisfied: numpy>=1.15.0 in /usr/local/lib/python3.7/dist-packages (from spacy>=2.2.2->en_core_web_sm==2.2.5) (1.19.5)\n",
            "Requirement already satisfied: thinc==7.4.0 in /usr/local/lib/python3.7/dist-packages (from spacy>=2.2.2->en_core_web_sm==2.2.5) (7.4.0)\n",
            "Requirement already satisfied: catalogue<1.1.0,>=0.0.7 in /usr/local/lib/python3.7/dist-packages (from spacy>=2.2.2->en_core_web_sm==2.2.5) (1.0.0)\n",
            "Requirement already satisfied: preshed<3.1.0,>=3.0.2 in /usr/local/lib/python3.7/dist-packages (from spacy>=2.2.2->en_core_web_sm==2.2.5) (3.0.5)\n",
            "Requirement already satisfied: setuptools in /usr/local/lib/python3.7/dist-packages (from spacy>=2.2.2->en_core_web_sm==2.2.5) (57.0.0)\n",
            "Requirement already satisfied: tqdm<5.0.0,>=4.38.0 in /usr/local/lib/python3.7/dist-packages (from spacy>=2.2.2->en_core_web_sm==2.2.5) (4.41.1)\n",
            "Requirement already satisfied: requests<3.0.0,>=2.13.0 in /usr/local/lib/python3.7/dist-packages (from spacy>=2.2.2->en_core_web_sm==2.2.5) (2.23.0)\n",
            "Requirement already satisfied: importlib-metadata>=0.20; python_version < \"3.8\" in /usr/local/lib/python3.7/dist-packages (from catalogue<1.1.0,>=0.0.7->spacy>=2.2.2->en_core_web_sm==2.2.5) (4.0.1)\n",
            "Requirement already satisfied: certifi>=2017.4.17 in /usr/local/lib/python3.7/dist-packages (from requests<3.0.0,>=2.13.0->spacy>=2.2.2->en_core_web_sm==2.2.5) (2020.12.5)\n",
            "Requirement already satisfied: urllib3!=1.25.0,!=1.25.1,<1.26,>=1.21.1 in /usr/local/lib/python3.7/dist-packages (from requests<3.0.0,>=2.13.0->spacy>=2.2.2->en_core_web_sm==2.2.5) (1.24.3)\n",
            "Requirement already satisfied: idna<3,>=2.5 in /usr/local/lib/python3.7/dist-packages (from requests<3.0.0,>=2.13.0->spacy>=2.2.2->en_core_web_sm==2.2.5) (2.10)\n",
            "Requirement already satisfied: chardet<4,>=3.0.2 in /usr/local/lib/python3.7/dist-packages (from requests<3.0.0,>=2.13.0->spacy>=2.2.2->en_core_web_sm==2.2.5) (3.0.4)\n",
            "Requirement already satisfied: zipp>=0.5 in /usr/local/lib/python3.7/dist-packages (from importlib-metadata>=0.20; python_version < \"3.8\"->catalogue<1.1.0,>=0.0.7->spacy>=2.2.2->en_core_web_sm==2.2.5) (3.4.1)\n",
            "Requirement already satisfied: typing-extensions>=3.6.4; python_version < \"3.8\" in /usr/local/lib/python3.7/dist-packages (from importlib-metadata>=0.20; python_version < \"3.8\"->catalogue<1.1.0,>=0.0.7->spacy>=2.2.2->en_core_web_sm==2.2.5) (3.7.4.3)\n",
            "\u001b[38;5;2m✔ Download and installation successful\u001b[0m\n",
            "You can now load the model via spacy.load('en_core_web_sm')\n",
            "Requirement already satisfied: de_core_news_sm==2.2.5 from https://github.com/explosion/spacy-models/releases/download/de_core_news_sm-2.2.5/de_core_news_sm-2.2.5.tar.gz#egg=de_core_news_sm==2.2.5 in /usr/local/lib/python3.7/dist-packages (2.2.5)\n",
            "Requirement already satisfied: spacy>=2.2.2 in /usr/local/lib/python3.7/dist-packages (from de_core_news_sm==2.2.5) (2.2.4)\n",
            "Requirement already satisfied: tqdm<5.0.0,>=4.38.0 in /usr/local/lib/python3.7/dist-packages (from spacy>=2.2.2->de_core_news_sm==2.2.5) (4.41.1)\n",
            "Requirement already satisfied: wasabi<1.1.0,>=0.4.0 in /usr/local/lib/python3.7/dist-packages (from spacy>=2.2.2->de_core_news_sm==2.2.5) (0.8.2)\n",
            "Requirement already satisfied: preshed<3.1.0,>=3.0.2 in /usr/local/lib/python3.7/dist-packages (from spacy>=2.2.2->de_core_news_sm==2.2.5) (3.0.5)\n",
            "Requirement already satisfied: plac<1.2.0,>=0.9.6 in /usr/local/lib/python3.7/dist-packages (from spacy>=2.2.2->de_core_news_sm==2.2.5) (1.1.3)\n",
            "Requirement already satisfied: murmurhash<1.1.0,>=0.28.0 in /usr/local/lib/python3.7/dist-packages (from spacy>=2.2.2->de_core_news_sm==2.2.5) (1.0.5)\n",
            "Requirement already satisfied: catalogue<1.1.0,>=0.0.7 in /usr/local/lib/python3.7/dist-packages (from spacy>=2.2.2->de_core_news_sm==2.2.5) (1.0.0)\n",
            "Requirement already satisfied: numpy>=1.15.0 in /usr/local/lib/python3.7/dist-packages (from spacy>=2.2.2->de_core_news_sm==2.2.5) (1.19.5)\n",
            "Requirement already satisfied: cymem<2.1.0,>=2.0.2 in /usr/local/lib/python3.7/dist-packages (from spacy>=2.2.2->de_core_news_sm==2.2.5) (2.0.5)\n",
            "Requirement already satisfied: srsly<1.1.0,>=1.0.2 in /usr/local/lib/python3.7/dist-packages (from spacy>=2.2.2->de_core_news_sm==2.2.5) (1.0.5)\n",
            "Requirement already satisfied: thinc==7.4.0 in /usr/local/lib/python3.7/dist-packages (from spacy>=2.2.2->de_core_news_sm==2.2.5) (7.4.0)\n",
            "Requirement already satisfied: blis<0.5.0,>=0.4.0 in /usr/local/lib/python3.7/dist-packages (from spacy>=2.2.2->de_core_news_sm==2.2.5) (0.4.1)\n",
            "Requirement already satisfied: setuptools in /usr/local/lib/python3.7/dist-packages (from spacy>=2.2.2->de_core_news_sm==2.2.5) (57.0.0)\n",
            "Requirement already satisfied: requests<3.0.0,>=2.13.0 in /usr/local/lib/python3.7/dist-packages (from spacy>=2.2.2->de_core_news_sm==2.2.5) (2.23.0)\n",
            "Requirement already satisfied: importlib-metadata>=0.20; python_version < \"3.8\" in /usr/local/lib/python3.7/dist-packages (from catalogue<1.1.0,>=0.0.7->spacy>=2.2.2->de_core_news_sm==2.2.5) (4.0.1)\n",
            "Requirement already satisfied: urllib3!=1.25.0,!=1.25.1,<1.26,>=1.21.1 in /usr/local/lib/python3.7/dist-packages (from requests<3.0.0,>=2.13.0->spacy>=2.2.2->de_core_news_sm==2.2.5) (1.24.3)\n",
            "Requirement already satisfied: idna<3,>=2.5 in /usr/local/lib/python3.7/dist-packages (from requests<3.0.0,>=2.13.0->spacy>=2.2.2->de_core_news_sm==2.2.5) (2.10)\n",
            "Requirement already satisfied: certifi>=2017.4.17 in /usr/local/lib/python3.7/dist-packages (from requests<3.0.0,>=2.13.0->spacy>=2.2.2->de_core_news_sm==2.2.5) (2020.12.5)\n",
            "Requirement already satisfied: chardet<4,>=3.0.2 in /usr/local/lib/python3.7/dist-packages (from requests<3.0.0,>=2.13.0->spacy>=2.2.2->de_core_news_sm==2.2.5) (3.0.4)\n",
            "Requirement already satisfied: zipp>=0.5 in /usr/local/lib/python3.7/dist-packages (from importlib-metadata>=0.20; python_version < \"3.8\"->catalogue<1.1.0,>=0.0.7->spacy>=2.2.2->de_core_news_sm==2.2.5) (3.4.1)\n",
            "Requirement already satisfied: typing-extensions>=3.6.4; python_version < \"3.8\" in /usr/local/lib/python3.7/dist-packages (from importlib-metadata>=0.20; python_version < \"3.8\"->catalogue<1.1.0,>=0.0.7->spacy>=2.2.2->de_core_news_sm==2.2.5) (3.7.4.3)\n",
            "\u001b[38;5;2m✔ Download and installation successful\u001b[0m\n",
            "You can now load the model via spacy.load('de_core_news_sm')\n"
          ],
          "name": "stdout"
        }
      ]
    },
    {
      "cell_type": "code",
      "metadata": {
        "id": "KIXh8x99bkrK"
      },
      "source": [
        "spacy_german = spacy.load(\"de_core_news_sm\")\n",
        "spacy_english =spacy.load(\"en_core_web_sm\")"
      ],
      "execution_count": null,
      "outputs": []
    },
    {
      "cell_type": "code",
      "metadata": {
        "id": "nwTUEdHEb302"
      },
      "source": [
        "def tokenize_german(text):\n",
        "  return [tok.text for tok in spacy_german.tokenizer(text)]\n",
        "  \n",
        "def tokenize_english(text):\n",
        "  return [tok.text for tok in spacy_english.tokenizer(text)]"
      ],
      "execution_count": null,
      "outputs": []
    },
    {
      "cell_type": "code",
      "metadata": {
        "id": "lIfR1trMdHaz"
      },
      "source": [
        "source=data.Field(init_token=\"<sos>\",eos_token=\"<eos>\",lower=True,batch_first=True,tokenize=tokenize_german)\n",
        "target=data.Field(init_token=\"<sos>\",eos_token=\"<eos>\",lower=True,batch_first=True,tokenize=tokenize_english)"
      ],
      "execution_count": null,
      "outputs": []
    },
    {
      "cell_type": "code",
      "metadata": {
        "colab": {
          "background_save": true,
          "base_uri": "https://localhost:8080/"
        },
        "id": "HFVgcdaTd2CR",
        "outputId": "c8d7e163-16ff-4721-a649-3f75b75e7ffd"
      },
      "source": [
        "train_data,valid_data,test_data = datasets.Multi30k.splits(exts=(\".de\",\".en\"),fields=(source,target))"
      ],
      "execution_count": null,
      "outputs": [
        {
          "output_type": "stream",
          "text": [
            "downloading training.tar.gz\n"
          ],
          "name": "stdout"
        },
        {
          "output_type": "stream",
          "text": [
            "training.tar.gz: 100%|██████████| 1.21M/1.21M [00:02<00:00, 510kB/s]\n"
          ],
          "name": "stderr"
        },
        {
          "output_type": "stream",
          "text": [
            "downloading validation.tar.gz\n"
          ],
          "name": "stdout"
        },
        {
          "output_type": "stream",
          "text": [
            "validation.tar.gz: 100%|██████████| 46.3k/46.3k [00:00<00:00, 88.9kB/s]\n"
          ],
          "name": "stderr"
        },
        {
          "output_type": "stream",
          "text": [
            "downloading mmt_task1_test2016.tar.gz\n"
          ],
          "name": "stdout"
        },
        {
          "output_type": "stream",
          "text": [
            "mmt_task1_test2016.tar.gz: 100%|██████████| 66.2k/66.2k [00:00<00:00, 82.4kB/s]\n"
          ],
          "name": "stderr"
        }
      ]
    },
    {
      "cell_type": "code",
      "metadata": {
        "id": "cdVKLxULeMX0"
      },
      "source": [
        "source.build_vocab(train_data,min_freq=2)\n",
        "target.build_vocab(train_data,min_freq=2)"
      ],
      "execution_count": null,
      "outputs": []
    },
    {
      "cell_type": "code",
      "metadata": {
        "id": "Su5fZnfSez-q"
      },
      "source": [
        "if torch.cuda.is_available():\n",
        "  device=\"cuda\"\n",
        "else:\n",
        "  device=\"cpu\""
      ],
      "execution_count": null,
      "outputs": []
    },
    {
      "cell_type": "code",
      "metadata": {
        "colab": {
          "base_uri": "https://localhost:8080/",
          "height": 35
        },
        "id": "l8KiV_EptqXe",
        "outputId": "12b5a64c-581f-4f1f-ff35-793b944fb5de"
      },
      "source": [
        "device"
      ],
      "execution_count": null,
      "outputs": [
        {
          "output_type": "execute_result",
          "data": {
            "application/vnd.google.colaboratory.intrinsic+json": {
              "type": "string"
            },
            "text/plain": [
              "'cuda'"
            ]
          },
          "metadata": {
            "tags": []
          },
          "execution_count": 16
        }
      ]
    },
    {
      "cell_type": "code",
      "metadata": {
        "id": "7c9f2FXyed3c"
      },
      "source": [
        "train_iterator,valid_iterator,test_iterator=data.BucketIterator.splits((train_data,valid_data,test_data),batch_size=64,device=device)"
      ],
      "execution_count": null,
      "outputs": []
    },
    {
      "cell_type": "code",
      "metadata": {
        "id": "pQZC3r-BfOx0"
      },
      "source": [
        "batch=next(iter(train_iterator))"
      ],
      "execution_count": null,
      "outputs": []
    },
    {
      "cell_type": "code",
      "metadata": {
        "id": "bR4sw8tSfVE5",
        "colab": {
          "base_uri": "https://localhost:8080/"
        },
        "outputId": "936f0eca-5bda-4061-ccd5-7e5bd8112cbc"
      },
      "source": [
        "batch.src.shape"
      ],
      "execution_count": null,
      "outputs": [
        {
          "output_type": "execute_result",
          "data": {
            "text/plain": [
              "torch.Size([64, 25])"
            ]
          },
          "metadata": {
            "tags": []
          },
          "execution_count": 21
        }
      ]
    },
    {
      "cell_type": "code",
      "metadata": {
        "id": "9lsJs3lItzSG"
      },
      "source": [
        "class encoder(nn.Module):\n",
        "  def __init__(self,input_dim,hid_dim,n_heads,pf_dim,n_layers,dropout,device,max_length=100):\n",
        "    super().__init__()\n",
        "    self.input_dim = input_dim\n",
        "    self.hid_dim = hid_dim\n",
        "    self.device = device\n",
        "    self.tok_embedding = nn.Embedding(input_dim,hid_dim)\n",
        "    self.pos_embedding = nn.Embedding(max_length,hid_dim)\n",
        "\n",
        "    self.layers = nn.ModuleList([Encodelayer(hid_dim,n_heads,pf_dim,dropout,device) for _ in range(n_layers)])\n",
        "    self.scale=torch.sqrt(torch.FloatTensor([hid_dim])).to(device)\n",
        "    self.dropout = nn.Dropout(dropout)\n",
        "\n",
        "  def forward(self,src,src_mask):\n",
        "    batch_size = src.shape[0]\n",
        "    src_len = src.shape[1]\n",
        "\n",
        "    pos = torch.arange(0,src_len).unsqueeze(0).repeat(batch_size,1).to(self.device)\n",
        "    src = self.dropout((self.tok_embedding(src)*self.scale)+self.pos_embedding(pos))\n",
        "\n",
        "    for layer in self.layers:\n",
        "      src=layer(src,src_mask)\n",
        "\n",
        "    return src\n"
      ],
      "execution_count": null,
      "outputs": []
    },
    {
      "cell_type": "code",
      "metadata": {
        "id": "dwMSD--ZujiH"
      },
      "source": [
        "class Encodelayer(nn.Module):\n",
        "  def __init__(self,hid_dim,n_heads,pf_dim,dropout,device):\n",
        "    super().__init__()\n",
        "    self.attention_layer=MultiHeadAttention(hid_dim,n_heads,dropout,device)\n",
        "    self.attn_layer_norm = nn.LayerNorm(hid_dim)\n",
        "    self.pff_norm = nn.LayerNorm(hid_dim)\n",
        "    self.positionfeedforward=positionfeedforward(hid_dim,pf_dim,dropout,device)\n",
        "    self.dropout = nn.Dropout(dropout)\n",
        "\n",
        "  def forward(self,src,src_mask):\n",
        "\n",
        "    _src,_ = self.attention_layer(src,src,src,src_mask)\n",
        "    src    = self.attn_layer_norm(src + self.dropout(_src))\n",
        "\n",
        "    _src = self.positionfeedforward(src)\n",
        "    src = self.pff_norm(src+self.dropout(_src))\n",
        "\n",
        "\n",
        "    return src "
      ],
      "execution_count": null,
      "outputs": []
    },
    {
      "cell_type": "code",
      "metadata": {
        "id": "O5hVRNSzu80f"
      },
      "source": [
        "class MultiHeadAttention(nn.Module):\n",
        "  def __init__(self,hid_dim,n_heads,dropout,device):\n",
        "    super().__init__()\n",
        "\n",
        "    self.hid_dim = hid_dim\n",
        "    self.n_heads = n_heads\n",
        "    self.head_dim = hid_dim // n_heads\n",
        "\n",
        "    self.fc_q = nn.Linear(hid_dim,hid_dim)\n",
        "    self.fc_k = nn.Linear(hid_dim,hid_dim)\n",
        "    self.fc_v = nn.Linear(hid_dim,hid_dim)\n",
        "    self.fc_out = nn.Linear(hid_dim,hid_dim)\n",
        "    self.scale=torch.sqrt(torch.FloatTensor([self.head_dim])).to(device)\n",
        "    self.dropout = nn.Dropout(dropout)\n",
        "    \n",
        "\n",
        "\n",
        "  def forward(self,query,key,value,mask=None):\n",
        "    batch_size = query.shape[0]\n",
        "    \n",
        "\n",
        "    q=self.fc_q(query)\n",
        "    #[batch_size,q_len,hid_dim]\n",
        "    k=self.fc_k(key)\n",
        "    v=self.fc_v(value)\n",
        "\n",
        "    q=q.view(batch_size,-1,self.n_heads,self.head_dim).permute(0,2,1,3)\n",
        "    k=k.view(batch_size,-1,self.n_heads,self.head_dim).permute(0,2,1,3)\n",
        "    v=v.view(batch_size,-1,self.n_heads,self.head_dim).permute(0,2,1,3)\n",
        "\n",
        "    energy = torch.matmul(q,k.permute(0,1,3,2))/self.scale\n",
        "\n",
        "    if mask is not None:\n",
        "      energy=energy.masked_fill(mask==0,-1e10)\n",
        "\n",
        "    attention = torch.softmax(energy,dim=-1)\n",
        "\n",
        "    x=torch.matmul(self.dropout(attention),v)\n",
        "\n",
        "    x=x.permute(0,2,1,3).contiguous()\n",
        "\n",
        "    x=x.view(batch_size,-1,self.hid_dim)\n",
        "\n",
        "    x=self.fc_out(x)\n",
        "\n",
        "    return x,attention"
      ],
      "execution_count": null,
      "outputs": []
    },
    {
      "cell_type": "code",
      "metadata": {
        "id": "3I5SCHkiv4zb"
      },
      "source": [
        "class positionfeedforward(nn.Module):\n",
        "  def __init__(self,hid_dim,pf_dim,dropout,device):\n",
        "    super().__init__()\n",
        "    self.lin1 = nn.Linear(hid_dim,pf_dim)\n",
        "    self.lin2 = nn.Linear(pf_dim,hid_dim)\n",
        "    self.dropout = nn.Dropout(dropout)\n",
        "\n",
        "  def forward(self,src):\n",
        "    src =self.dropout(torch.relu(self.lin1(src)))\n",
        "    src=self.lin2(src)\n",
        "\n",
        "    return src"
      ],
      "execution_count": null,
      "outputs": []
    },
    {
      "cell_type": "code",
      "metadata": {
        "id": "FbbFr7dZwFm5"
      },
      "source": [
        "class decoder(nn.Module):\n",
        "  def __init__(self,output_dim,hid_dim,n_heads,pf_dim,n_layers,dropout,device,max_length=100):\n",
        "    super().__init__()\n",
        "    self.output_dim=output_dim\n",
        "    self.hid_dim = hid_dim\n",
        "    self.device = device\n",
        "    self.tok_embedding = nn.Embedding(input_dim,hid_dim)\n",
        "    self.pos_embedding = nn.Embedding(max_length,hid_dim)\n",
        "\n",
        "    self.layers = nn.ModuleList([Decodelayer(hid_dim,n_heads,pf_dim,dropout,device) for _ in range(n_layers)])\n",
        "    self.scale=torch.sqrt(torch.FloatTensor([hid_dim])).to(device)\n",
        "    self.fc_out = nn.Linear(hid_dim, output_dim)\n",
        "    self.dropout = nn.Dropout(dropout)\n",
        "\n",
        "  def forward(self,trg,trg_mask,src,src_mask):\n",
        "    batch_size = trg.shape[0]\n",
        "    trg_len = trg.shape[1]\n",
        "\n",
        "    pos = torch.arange(0,trg_len).unsqueeze(0).repeat(batch_size,1).to(self.device)\n",
        "    trg = self.dropout((self.tok_embedding(trg)*self.scale)+self.pos_embedding(pos))\n",
        "\n",
        "    for layer in self.layers:\n",
        "      trg,attention=layer(trg,trg_mask,src,src_mask)\n",
        "\n",
        "    \n",
        "    trg = self.fc_out(trg)\n",
        "\n",
        "    return trg,attention"
      ],
      "execution_count": null,
      "outputs": []
    },
    {
      "cell_type": "code",
      "metadata": {
        "id": "4_LgO5F3xA-0"
      },
      "source": [
        "class Decodelayer(nn.Module):\n",
        "  def __init__(self,hid_dim,n_heads,pf_dim,dropout,device):\n",
        "    super().__init__()\n",
        "    self.attention_layer=MultiHeadAttention(hid_dim,n_heads,dropout,device)\n",
        "    self.encoderdecoder = MultiHeadAttention(hid_dim,n_heads,dropout,device)\n",
        "    self.encdecnorm = nn.LayerNorm(hid_dim)\n",
        "    self.attn_layer_norm = nn.LayerNorm(hid_dim)\n",
        "    self.pff_norm = nn.LayerNorm(hid_dim)\n",
        "    self.positionfeedforward=positionfeedforward(hid_dim,pf_dim,dropout,device)\n",
        "    self.dropout = nn.Dropout(dropout)\n",
        "\n",
        "  def forward(self,trg,trg_mask,src,src_mask):\n",
        "\n",
        "    _trg,_ = self.attention_layer(trg,trg,trg,trg_mask)\n",
        "    trg    = self.attn_layer_norm(trg + self.dropout(_trg))\n",
        "\n",
        "    _trg,attention=self.encoderdecoder(trg,src,src,src_mask)\n",
        "    trg    = self.encdecnorm(trg + self.dropout(_trg))\n",
        "\n",
        "    _trg = self.positionfeedforward(trg)\n",
        "    trg = self.pff_norm(trg+self.dropout(_trg))\n",
        "\n",
        "\n",
        "    return trg,attention"
      ],
      "execution_count": null,
      "outputs": []
    },
    {
      "cell_type": "code",
      "metadata": {
        "id": "ZYyFSAyFyCPv"
      },
      "source": [
        "class seq2seq(nn.Module):\n",
        "  def __init__(self,encoder,decoder,src_pad_idx,trg_pad_idx,device):\n",
        "    super().__init__()\n",
        "    self.encoder=encoder\n",
        "    self.decoder=decoder\n",
        "    self.device=device\n",
        "    self.src_pad_idx = src_pad_idx\n",
        "    self.trg_pad_idx = trg_pad_idx\n",
        "\n",
        "  def make_src_mask(self,src):\n",
        "    src_mask=(src!=self.src_pad_idx).unsqueeze(1).unsqueeze(2)\n",
        "    return src_mask\n",
        "\n",
        "  def make_trg_mask(self,trg):\n",
        "    trg_pad_mask=(trg!=self.trg_pad_idx).unsqueeze(1).unsqueeze(2)\n",
        "    batch_size=trg.shape[0]\n",
        "    trg_len = trg.shape[1]\n",
        "\n",
        "    trg_sub_mask = torch.tril(torch.ones((trg_len, trg_len), device = self.device)).bool()\n",
        "    trg_mask=trg_pad_mask & trg_sub_mask\n",
        "    return trg_mask\n",
        "\n",
        "  \n",
        "  def forward(self,src,trg):\n",
        "    src_mask = self.make_src_mask(src)\n",
        "    trg_mask=  self.make_trg_mask(trg)\n",
        "\n",
        "    enc_src = self.encoder(src,src_mask)\n",
        "    output,attention =self.decoder(trg,trg_mask,enc_src,src_mask)\n",
        "\n",
        "    return output,attention"
      ],
      "execution_count": null,
      "outputs": []
    },
    {
      "cell_type": "code",
      "metadata": {
        "id": "1eFcsE95z1bM"
      },
      "source": [
        "input_dim = len(source.vocab)\n",
        "output_dim =len(target.vocab)\n",
        "hid_dim = 256\n",
        "pf_hid_dim=512\n",
        "n_heads=8\n",
        "n_layer=3\n",
        "dropout=0.1"
      ],
      "execution_count": null,
      "outputs": []
    },
    {
      "cell_type": "code",
      "metadata": {
        "colab": {
          "base_uri": "https://localhost:8080/"
        },
        "id": "W5wdOi-i4WZg",
        "outputId": "7c4edc6b-cfa4-4d61-99c5-b4486bd52bd2"
      },
      "source": [
        "enc=encoder(input_dim,hid_dim,n_heads,pf_hid_dim,n_layer,dropout,device)\n",
        "enc"
      ],
      "execution_count": null,
      "outputs": [
        {
          "output_type": "execute_result",
          "data": {
            "text/plain": [
              "encoder(\n",
              "  (tok_embedding): Embedding(7855, 256)\n",
              "  (pos_embedding): Embedding(100, 256)\n",
              "  (layers): ModuleList(\n",
              "    (0): Encodelayer(\n",
              "      (attention_layer): MultiHeadAttention(\n",
              "        (fc_q): Linear(in_features=256, out_features=256, bias=True)\n",
              "        (fc_k): Linear(in_features=256, out_features=256, bias=True)\n",
              "        (fc_v): Linear(in_features=256, out_features=256, bias=True)\n",
              "        (fc_out): Linear(in_features=256, out_features=256, bias=True)\n",
              "        (dropout): Dropout(p=0.1, inplace=False)\n",
              "      )\n",
              "      (attn_layer_norm): LayerNorm((256,), eps=1e-05, elementwise_affine=True)\n",
              "      (pff_norm): LayerNorm((256,), eps=1e-05, elementwise_affine=True)\n",
              "      (positionfeedforward): positionfeedforward(\n",
              "        (lin1): Linear(in_features=256, out_features=512, bias=True)\n",
              "        (lin2): Linear(in_features=512, out_features=256, bias=True)\n",
              "        (dropout): Dropout(p=0.1, inplace=False)\n",
              "      )\n",
              "      (dropout): Dropout(p=0.1, inplace=False)\n",
              "    )\n",
              "    (1): Encodelayer(\n",
              "      (attention_layer): MultiHeadAttention(\n",
              "        (fc_q): Linear(in_features=256, out_features=256, bias=True)\n",
              "        (fc_k): Linear(in_features=256, out_features=256, bias=True)\n",
              "        (fc_v): Linear(in_features=256, out_features=256, bias=True)\n",
              "        (fc_out): Linear(in_features=256, out_features=256, bias=True)\n",
              "        (dropout): Dropout(p=0.1, inplace=False)\n",
              "      )\n",
              "      (attn_layer_norm): LayerNorm((256,), eps=1e-05, elementwise_affine=True)\n",
              "      (pff_norm): LayerNorm((256,), eps=1e-05, elementwise_affine=True)\n",
              "      (positionfeedforward): positionfeedforward(\n",
              "        (lin1): Linear(in_features=256, out_features=512, bias=True)\n",
              "        (lin2): Linear(in_features=512, out_features=256, bias=True)\n",
              "        (dropout): Dropout(p=0.1, inplace=False)\n",
              "      )\n",
              "      (dropout): Dropout(p=0.1, inplace=False)\n",
              "    )\n",
              "    (2): Encodelayer(\n",
              "      (attention_layer): MultiHeadAttention(\n",
              "        (fc_q): Linear(in_features=256, out_features=256, bias=True)\n",
              "        (fc_k): Linear(in_features=256, out_features=256, bias=True)\n",
              "        (fc_v): Linear(in_features=256, out_features=256, bias=True)\n",
              "        (fc_out): Linear(in_features=256, out_features=256, bias=True)\n",
              "        (dropout): Dropout(p=0.1, inplace=False)\n",
              "      )\n",
              "      (attn_layer_norm): LayerNorm((256,), eps=1e-05, elementwise_affine=True)\n",
              "      (pff_norm): LayerNorm((256,), eps=1e-05, elementwise_affine=True)\n",
              "      (positionfeedforward): positionfeedforward(\n",
              "        (lin1): Linear(in_features=256, out_features=512, bias=True)\n",
              "        (lin2): Linear(in_features=512, out_features=256, bias=True)\n",
              "        (dropout): Dropout(p=0.1, inplace=False)\n",
              "      )\n",
              "      (dropout): Dropout(p=0.1, inplace=False)\n",
              "    )\n",
              "  )\n",
              "  (dropout): Dropout(p=0.1, inplace=False)\n",
              ")"
            ]
          },
          "metadata": {
            "tags": []
          },
          "execution_count": 117
        }
      ]
    },
    {
      "cell_type": "code",
      "metadata": {
        "colab": {
          "base_uri": "https://localhost:8080/"
        },
        "id": "HPST6KCV4gvH",
        "outputId": "b3b0d4dc-21e8-4eac-8f71-a3223e894082"
      },
      "source": [
        "dec=decoder(output_dim,hid_dim,n_heads,pf_hid_dim,n_layer,dropout,device)\n",
        "dec"
      ],
      "execution_count": null,
      "outputs": [
        {
          "output_type": "execute_result",
          "data": {
            "text/plain": [
              "decoder(\n",
              "  (tok_embedding): Embedding(7855, 256)\n",
              "  (pos_embedding): Embedding(100, 256)\n",
              "  (layers): ModuleList(\n",
              "    (0): Decodelayer(\n",
              "      (attention_layer): MultiHeadAttention(\n",
              "        (fc_q): Linear(in_features=256, out_features=256, bias=True)\n",
              "        (fc_k): Linear(in_features=256, out_features=256, bias=True)\n",
              "        (fc_v): Linear(in_features=256, out_features=256, bias=True)\n",
              "        (fc_out): Linear(in_features=256, out_features=256, bias=True)\n",
              "        (dropout): Dropout(p=0.1, inplace=False)\n",
              "      )\n",
              "      (encoderdecoder): MultiHeadAttention(\n",
              "        (fc_q): Linear(in_features=256, out_features=256, bias=True)\n",
              "        (fc_k): Linear(in_features=256, out_features=256, bias=True)\n",
              "        (fc_v): Linear(in_features=256, out_features=256, bias=True)\n",
              "        (fc_out): Linear(in_features=256, out_features=256, bias=True)\n",
              "        (dropout): Dropout(p=0.1, inplace=False)\n",
              "      )\n",
              "      (encdecnorm): LayerNorm((256,), eps=1e-05, elementwise_affine=True)\n",
              "      (attn_layer_norm): LayerNorm((256,), eps=1e-05, elementwise_affine=True)\n",
              "      (pff_norm): LayerNorm((256,), eps=1e-05, elementwise_affine=True)\n",
              "      (positionfeedforward): positionfeedforward(\n",
              "        (lin1): Linear(in_features=256, out_features=512, bias=True)\n",
              "        (lin2): Linear(in_features=512, out_features=256, bias=True)\n",
              "        (dropout): Dropout(p=0.1, inplace=False)\n",
              "      )\n",
              "      (dropout): Dropout(p=0.1, inplace=False)\n",
              "    )\n",
              "    (1): Decodelayer(\n",
              "      (attention_layer): MultiHeadAttention(\n",
              "        (fc_q): Linear(in_features=256, out_features=256, bias=True)\n",
              "        (fc_k): Linear(in_features=256, out_features=256, bias=True)\n",
              "        (fc_v): Linear(in_features=256, out_features=256, bias=True)\n",
              "        (fc_out): Linear(in_features=256, out_features=256, bias=True)\n",
              "        (dropout): Dropout(p=0.1, inplace=False)\n",
              "      )\n",
              "      (encoderdecoder): MultiHeadAttention(\n",
              "        (fc_q): Linear(in_features=256, out_features=256, bias=True)\n",
              "        (fc_k): Linear(in_features=256, out_features=256, bias=True)\n",
              "        (fc_v): Linear(in_features=256, out_features=256, bias=True)\n",
              "        (fc_out): Linear(in_features=256, out_features=256, bias=True)\n",
              "        (dropout): Dropout(p=0.1, inplace=False)\n",
              "      )\n",
              "      (encdecnorm): LayerNorm((256,), eps=1e-05, elementwise_affine=True)\n",
              "      (attn_layer_norm): LayerNorm((256,), eps=1e-05, elementwise_affine=True)\n",
              "      (pff_norm): LayerNorm((256,), eps=1e-05, elementwise_affine=True)\n",
              "      (positionfeedforward): positionfeedforward(\n",
              "        (lin1): Linear(in_features=256, out_features=512, bias=True)\n",
              "        (lin2): Linear(in_features=512, out_features=256, bias=True)\n",
              "        (dropout): Dropout(p=0.1, inplace=False)\n",
              "      )\n",
              "      (dropout): Dropout(p=0.1, inplace=False)\n",
              "    )\n",
              "    (2): Decodelayer(\n",
              "      (attention_layer): MultiHeadAttention(\n",
              "        (fc_q): Linear(in_features=256, out_features=256, bias=True)\n",
              "        (fc_k): Linear(in_features=256, out_features=256, bias=True)\n",
              "        (fc_v): Linear(in_features=256, out_features=256, bias=True)\n",
              "        (fc_out): Linear(in_features=256, out_features=256, bias=True)\n",
              "        (dropout): Dropout(p=0.1, inplace=False)\n",
              "      )\n",
              "      (encoderdecoder): MultiHeadAttention(\n",
              "        (fc_q): Linear(in_features=256, out_features=256, bias=True)\n",
              "        (fc_k): Linear(in_features=256, out_features=256, bias=True)\n",
              "        (fc_v): Linear(in_features=256, out_features=256, bias=True)\n",
              "        (fc_out): Linear(in_features=256, out_features=256, bias=True)\n",
              "        (dropout): Dropout(p=0.1, inplace=False)\n",
              "      )\n",
              "      (encdecnorm): LayerNorm((256,), eps=1e-05, elementwise_affine=True)\n",
              "      (attn_layer_norm): LayerNorm((256,), eps=1e-05, elementwise_affine=True)\n",
              "      (pff_norm): LayerNorm((256,), eps=1e-05, elementwise_affine=True)\n",
              "      (positionfeedforward): positionfeedforward(\n",
              "        (lin1): Linear(in_features=256, out_features=512, bias=True)\n",
              "        (lin2): Linear(in_features=512, out_features=256, bias=True)\n",
              "        (dropout): Dropout(p=0.1, inplace=False)\n",
              "      )\n",
              "      (dropout): Dropout(p=0.1, inplace=False)\n",
              "    )\n",
              "  )\n",
              "  (fc_out): Linear(in_features=256, out_features=5893, bias=True)\n",
              "  (dropout): Dropout(p=0.1, inplace=False)\n",
              ")"
            ]
          },
          "metadata": {
            "tags": []
          },
          "execution_count": 118
        }
      ]
    },
    {
      "cell_type": "code",
      "metadata": {
        "id": "VM6hU4uw5kyD"
      },
      "source": [
        "SRC_PAD_IDX = source.vocab.stoi[source.pad_token]\n",
        "TRG_PAD_IDX = target.vocab.stoi[target.pad_token]\n",
        "model=seq2seq(enc,dec,SRC_PAD_IDX,TRG_PAD_IDX,device).to(device)"
      ],
      "execution_count": null,
      "outputs": []
    },
    {
      "cell_type": "code",
      "metadata": {
        "colab": {
          "base_uri": "https://localhost:8080/"
        },
        "id": "-TWvWoOT6g8M",
        "outputId": "9ea72c35-2962-4362-c12b-ea2a6ca41f3c"
      },
      "source": [
        "model"
      ],
      "execution_count": null,
      "outputs": [
        {
          "output_type": "execute_result",
          "data": {
            "text/plain": [
              "seq2seq(\n",
              "  (encoder): encoder(\n",
              "    (tok_embedding): Embedding(7855, 256)\n",
              "    (pos_embedding): Embedding(100, 256)\n",
              "    (layers): ModuleList(\n",
              "      (0): Encodelayer(\n",
              "        (attention_layer): MultiHeadAttention(\n",
              "          (fc_q): Linear(in_features=256, out_features=256, bias=True)\n",
              "          (fc_k): Linear(in_features=256, out_features=256, bias=True)\n",
              "          (fc_v): Linear(in_features=256, out_features=256, bias=True)\n",
              "          (fc_out): Linear(in_features=256, out_features=256, bias=True)\n",
              "          (dropout): Dropout(p=0.1, inplace=False)\n",
              "        )\n",
              "        (attn_layer_norm): LayerNorm((256,), eps=1e-05, elementwise_affine=True)\n",
              "        (pff_norm): LayerNorm((256,), eps=1e-05, elementwise_affine=True)\n",
              "        (positionfeedforward): positionfeedforward(\n",
              "          (lin1): Linear(in_features=256, out_features=512, bias=True)\n",
              "          (lin2): Linear(in_features=512, out_features=256, bias=True)\n",
              "          (dropout): Dropout(p=0.1, inplace=False)\n",
              "        )\n",
              "        (dropout): Dropout(p=0.1, inplace=False)\n",
              "      )\n",
              "      (1): Encodelayer(\n",
              "        (attention_layer): MultiHeadAttention(\n",
              "          (fc_q): Linear(in_features=256, out_features=256, bias=True)\n",
              "          (fc_k): Linear(in_features=256, out_features=256, bias=True)\n",
              "          (fc_v): Linear(in_features=256, out_features=256, bias=True)\n",
              "          (fc_out): Linear(in_features=256, out_features=256, bias=True)\n",
              "          (dropout): Dropout(p=0.1, inplace=False)\n",
              "        )\n",
              "        (attn_layer_norm): LayerNorm((256,), eps=1e-05, elementwise_affine=True)\n",
              "        (pff_norm): LayerNorm((256,), eps=1e-05, elementwise_affine=True)\n",
              "        (positionfeedforward): positionfeedforward(\n",
              "          (lin1): Linear(in_features=256, out_features=512, bias=True)\n",
              "          (lin2): Linear(in_features=512, out_features=256, bias=True)\n",
              "          (dropout): Dropout(p=0.1, inplace=False)\n",
              "        )\n",
              "        (dropout): Dropout(p=0.1, inplace=False)\n",
              "      )\n",
              "      (2): Encodelayer(\n",
              "        (attention_layer): MultiHeadAttention(\n",
              "          (fc_q): Linear(in_features=256, out_features=256, bias=True)\n",
              "          (fc_k): Linear(in_features=256, out_features=256, bias=True)\n",
              "          (fc_v): Linear(in_features=256, out_features=256, bias=True)\n",
              "          (fc_out): Linear(in_features=256, out_features=256, bias=True)\n",
              "          (dropout): Dropout(p=0.1, inplace=False)\n",
              "        )\n",
              "        (attn_layer_norm): LayerNorm((256,), eps=1e-05, elementwise_affine=True)\n",
              "        (pff_norm): LayerNorm((256,), eps=1e-05, elementwise_affine=True)\n",
              "        (positionfeedforward): positionfeedforward(\n",
              "          (lin1): Linear(in_features=256, out_features=512, bias=True)\n",
              "          (lin2): Linear(in_features=512, out_features=256, bias=True)\n",
              "          (dropout): Dropout(p=0.1, inplace=False)\n",
              "        )\n",
              "        (dropout): Dropout(p=0.1, inplace=False)\n",
              "      )\n",
              "    )\n",
              "    (dropout): Dropout(p=0.1, inplace=False)\n",
              "  )\n",
              "  (decoder): decoder(\n",
              "    (tok_embedding): Embedding(7855, 256)\n",
              "    (pos_embedding): Embedding(100, 256)\n",
              "    (layers): ModuleList(\n",
              "      (0): Decodelayer(\n",
              "        (attention_layer): MultiHeadAttention(\n",
              "          (fc_q): Linear(in_features=256, out_features=256, bias=True)\n",
              "          (fc_k): Linear(in_features=256, out_features=256, bias=True)\n",
              "          (fc_v): Linear(in_features=256, out_features=256, bias=True)\n",
              "          (fc_out): Linear(in_features=256, out_features=256, bias=True)\n",
              "          (dropout): Dropout(p=0.1, inplace=False)\n",
              "        )\n",
              "        (encoderdecoder): MultiHeadAttention(\n",
              "          (fc_q): Linear(in_features=256, out_features=256, bias=True)\n",
              "          (fc_k): Linear(in_features=256, out_features=256, bias=True)\n",
              "          (fc_v): Linear(in_features=256, out_features=256, bias=True)\n",
              "          (fc_out): Linear(in_features=256, out_features=256, bias=True)\n",
              "          (dropout): Dropout(p=0.1, inplace=False)\n",
              "        )\n",
              "        (encdecnorm): LayerNorm((256,), eps=1e-05, elementwise_affine=True)\n",
              "        (attn_layer_norm): LayerNorm((256,), eps=1e-05, elementwise_affine=True)\n",
              "        (pff_norm): LayerNorm((256,), eps=1e-05, elementwise_affine=True)\n",
              "        (positionfeedforward): positionfeedforward(\n",
              "          (lin1): Linear(in_features=256, out_features=512, bias=True)\n",
              "          (lin2): Linear(in_features=512, out_features=256, bias=True)\n",
              "          (dropout): Dropout(p=0.1, inplace=False)\n",
              "        )\n",
              "        (dropout): Dropout(p=0.1, inplace=False)\n",
              "      )\n",
              "      (1): Decodelayer(\n",
              "        (attention_layer): MultiHeadAttention(\n",
              "          (fc_q): Linear(in_features=256, out_features=256, bias=True)\n",
              "          (fc_k): Linear(in_features=256, out_features=256, bias=True)\n",
              "          (fc_v): Linear(in_features=256, out_features=256, bias=True)\n",
              "          (fc_out): Linear(in_features=256, out_features=256, bias=True)\n",
              "          (dropout): Dropout(p=0.1, inplace=False)\n",
              "        )\n",
              "        (encoderdecoder): MultiHeadAttention(\n",
              "          (fc_q): Linear(in_features=256, out_features=256, bias=True)\n",
              "          (fc_k): Linear(in_features=256, out_features=256, bias=True)\n",
              "          (fc_v): Linear(in_features=256, out_features=256, bias=True)\n",
              "          (fc_out): Linear(in_features=256, out_features=256, bias=True)\n",
              "          (dropout): Dropout(p=0.1, inplace=False)\n",
              "        )\n",
              "        (encdecnorm): LayerNorm((256,), eps=1e-05, elementwise_affine=True)\n",
              "        (attn_layer_norm): LayerNorm((256,), eps=1e-05, elementwise_affine=True)\n",
              "        (pff_norm): LayerNorm((256,), eps=1e-05, elementwise_affine=True)\n",
              "        (positionfeedforward): positionfeedforward(\n",
              "          (lin1): Linear(in_features=256, out_features=512, bias=True)\n",
              "          (lin2): Linear(in_features=512, out_features=256, bias=True)\n",
              "          (dropout): Dropout(p=0.1, inplace=False)\n",
              "        )\n",
              "        (dropout): Dropout(p=0.1, inplace=False)\n",
              "      )\n",
              "      (2): Decodelayer(\n",
              "        (attention_layer): MultiHeadAttention(\n",
              "          (fc_q): Linear(in_features=256, out_features=256, bias=True)\n",
              "          (fc_k): Linear(in_features=256, out_features=256, bias=True)\n",
              "          (fc_v): Linear(in_features=256, out_features=256, bias=True)\n",
              "          (fc_out): Linear(in_features=256, out_features=256, bias=True)\n",
              "          (dropout): Dropout(p=0.1, inplace=False)\n",
              "        )\n",
              "        (encoderdecoder): MultiHeadAttention(\n",
              "          (fc_q): Linear(in_features=256, out_features=256, bias=True)\n",
              "          (fc_k): Linear(in_features=256, out_features=256, bias=True)\n",
              "          (fc_v): Linear(in_features=256, out_features=256, bias=True)\n",
              "          (fc_out): Linear(in_features=256, out_features=256, bias=True)\n",
              "          (dropout): Dropout(p=0.1, inplace=False)\n",
              "        )\n",
              "        (encdecnorm): LayerNorm((256,), eps=1e-05, elementwise_affine=True)\n",
              "        (attn_layer_norm): LayerNorm((256,), eps=1e-05, elementwise_affine=True)\n",
              "        (pff_norm): LayerNorm((256,), eps=1e-05, elementwise_affine=True)\n",
              "        (positionfeedforward): positionfeedforward(\n",
              "          (lin1): Linear(in_features=256, out_features=512, bias=True)\n",
              "          (lin2): Linear(in_features=512, out_features=256, bias=True)\n",
              "          (dropout): Dropout(p=0.1, inplace=False)\n",
              "        )\n",
              "        (dropout): Dropout(p=0.1, inplace=False)\n",
              "      )\n",
              "    )\n",
              "    (fc_out): Linear(in_features=256, out_features=5893, bias=True)\n",
              "    (dropout): Dropout(p=0.1, inplace=False)\n",
              "  )\n",
              ")"
            ]
          },
          "metadata": {
            "tags": []
          },
          "execution_count": 120
        }
      ]
    },
    {
      "cell_type": "code",
      "metadata": {
        "colab": {
          "base_uri": "https://localhost:8080/"
        },
        "id": "57A7J5TX6iac",
        "outputId": "afb11f82-8e3f-45bb-bc1b-7b72ad7f1b73"
      },
      "source": [
        "def count_parameters(model):\n",
        "    return sum(p.numel() for p in model.parameters() if p.requires_grad)\n",
        "\n",
        "print(f'The model has {count_parameters(model):,} trainable parameters')"
      ],
      "execution_count": null,
      "outputs": [
        {
          "output_type": "stream",
          "text": [
            "The model has 9,541,125 trainable parameters\n"
          ],
          "name": "stdout"
        }
      ]
    },
    {
      "cell_type": "code",
      "metadata": {
        "id": "l7RSjFER6zXf"
      },
      "source": [
        "\n",
        "def initialize_weights(m):\n",
        "    if hasattr(m, 'weight') and m.weight.dim() > 1:\n",
        "        nn.init.xavier_uniform_(m.weight.data)"
      ],
      "execution_count": null,
      "outputs": []
    },
    {
      "cell_type": "code",
      "metadata": {
        "id": "Wrmhq4wR7S0N"
      },
      "source": [
        "model.apply(initialize_weights);"
      ],
      "execution_count": null,
      "outputs": []
    },
    {
      "cell_type": "code",
      "metadata": {
        "id": "WCFY8Q-47W2S"
      },
      "source": [
        "learning_rate=0.0005\n",
        "optim = torch.optim.Adam(model.parameters(),lr=learning_rate)"
      ],
      "execution_count": null,
      "outputs": []
    },
    {
      "cell_type": "code",
      "metadata": {
        "id": "lVbQCAOy7wTG"
      },
      "source": [
        "loss_fn = nn.CrossEntropyLoss(ignore_index = TRG_PAD_IDX)"
      ],
      "execution_count": null,
      "outputs": []
    },
    {
      "cell_type": "code",
      "metadata": {
        "id": "u0I9GGMY8Lvs"
      },
      "source": [
        "def train(model,iterator,optim,loss_fn,clip):\n",
        "  model.train()\n",
        "  epoch_loss=0\n",
        "  for i,batch in enumerate(iterator):\n",
        "    src=batch.src\n",
        "    trg=batch.trg\n",
        "    optim.zero_grad()\n",
        "    pred,_=model(src,trg[:,:-1])\n",
        "  #  print(pred.shape)\n",
        "    pred_dim=pred.shape[-1]\n",
        "  #  print(pred_dim)\n",
        "    trg=trg[:,1:].contiguous().view(-1)\n",
        "   # print(trg.shape)\n",
        "    pred = pred.contiguous().view(-1, pred_dim)\n",
        "   # print(pred.shape)\n",
        "    loss=loss_fn(pred,trg)\n",
        "    loss.backward()\n",
        "    torch.nn.utils.clip_grad_norm_(model.parameters(), clip)\n",
        "    optim.step()\n",
        "    epoch_loss+=loss.item()\n",
        "  return epoch_loss/len(iterator)"
      ],
      "execution_count": null,
      "outputs": []
    },
    {
      "cell_type": "code",
      "metadata": {
        "id": "y0jr3Sok8jho"
      },
      "source": [
        "def evaluate(model,iterator,loss_fn):\n",
        "  model.eval()\n",
        "  epoch_loss=0\n",
        "  with torch.no_grad():\n",
        "    for i,batch in enumerate(iterator):\n",
        "      src=batch.src\n",
        "      trg=batch.trg\n",
        "      pred,_=model(src,trg[:,:-1])\n",
        "      pred_dim=pred.shape[-1]\n",
        "      trg=trg[:,1:].contiguous().view(-1)\n",
        "   # print(trg.shape)\n",
        "      pred = pred.contiguous().view(-1, pred_dim)\n",
        "      loss=loss_fn(pred,trg)\n",
        "      epoch_loss+=loss.item()\n",
        "  return epoch_loss/len(iterator)"
      ],
      "execution_count": null,
      "outputs": []
    },
    {
      "cell_type": "code",
      "metadata": {
        "id": "bmeKAZNm8n4x"
      },
      "source": [
        "import math\n",
        "import time"
      ],
      "execution_count": null,
      "outputs": []
    },
    {
      "cell_type": "code",
      "metadata": {
        "id": "ud4rASl48wUy"
      },
      "source": [
        "def epoch_time(start_time, end_time):\n",
        "    elapsed_time = end_time - start_time\n",
        "    elapsed_mins = int(elapsed_time / 60)\n",
        "    elapsed_secs = int(elapsed_time - (elapsed_mins * 60))\n",
        "    return elapsed_mins, elapsed_secs"
      ],
      "execution_count": null,
      "outputs": []
    },
    {
      "cell_type": "code",
      "metadata": {
        "colab": {
          "base_uri": "https://localhost:8080/"
        },
        "id": "Y3Z4HkQO8zVK",
        "outputId": "ae23c533-7bc0-40fb-e4b1-b4151a489392"
      },
      "source": [
        "epochs=10\n",
        "clip=1\n",
        "best_valid_loss = float('inf')\n",
        "for epoch in range(0,epochs):\n",
        "  start_time = time.time()\n",
        "  train_loss = train(model,train_iterator,optim,loss_fn,clip)\n",
        "  valid_loss=evaluate(model,valid_iterator,loss_fn)\n",
        "  end_time =time.time()\n",
        "  epoch_mins, epoch_secs = epoch_time(start_time, end_time)\n",
        "  if valid_loss < best_valid_loss:\n",
        "        best_valid_loss = valid_loss\n",
        "        torch.save(model.state_dict(), 'getoen-model.pt')\n",
        "    \n",
        "    \n",
        "  print(f'Epoch: {epoch+1:02} | Time: {epoch_mins}m {epoch_secs}s')\n",
        "  print(f'\\tTrain Loss: {train_loss:.3f} | Train PPL: {math.exp(train_loss):7.3f}')\n",
        "  print(f'\\t Val. Loss: {valid_loss:.3f} |  Val. PPL: {math.exp(valid_loss):7.3f}')\n"
      ],
      "execution_count": null,
      "outputs": [
        {
          "output_type": "stream",
          "text": [
            "Epoch: 01 | Time: 0m 46s\n",
            "\tTrain Loss: 3.827 | Train PPL:  45.915\n",
            "\t Val. Loss: 2.690 |  Val. PPL:  14.727\n",
            "Epoch: 02 | Time: 0m 46s\n",
            "\tTrain Loss: 2.539 | Train PPL:  12.663\n",
            "\t Val. Loss: 2.100 |  Val. PPL:   8.165\n",
            "Epoch: 03 | Time: 0m 46s\n",
            "\tTrain Loss: 2.027 | Train PPL:   7.590\n",
            "\t Val. Loss: 1.850 |  Val. PPL:   6.361\n",
            "Epoch: 04 | Time: 0m 45s\n",
            "\tTrain Loss: 1.711 | Train PPL:   5.536\n",
            "\t Val. Loss: 1.732 |  Val. PPL:   5.653\n",
            "Epoch: 05 | Time: 0m 45s\n",
            "\tTrain Loss: 1.489 | Train PPL:   4.431\n",
            "\t Val. Loss: 1.651 |  Val. PPL:   5.211\n",
            "Epoch: 06 | Time: 0m 45s\n",
            "\tTrain Loss: 1.313 | Train PPL:   3.716\n",
            "\t Val. Loss: 1.614 |  Val. PPL:   5.024\n",
            "Epoch: 07 | Time: 0m 45s\n",
            "\tTrain Loss: 1.172 | Train PPL:   3.229\n",
            "\t Val. Loss: 1.614 |  Val. PPL:   5.022\n",
            "Epoch: 08 | Time: 0m 45s\n",
            "\tTrain Loss: 1.058 | Train PPL:   2.881\n",
            "\t Val. Loss: 1.629 |  Val. PPL:   5.096\n",
            "Epoch: 09 | Time: 0m 45s\n",
            "\tTrain Loss: 0.955 | Train PPL:   2.597\n",
            "\t Val. Loss: 1.643 |  Val. PPL:   5.172\n",
            "Epoch: 10 | Time: 0m 45s\n",
            "\tTrain Loss: 0.869 | Train PPL:   2.385\n",
            "\t Val. Loss: 1.674 |  Val. PPL:   5.334\n"
          ],
          "name": "stdout"
        }
      ]
    },
    {
      "cell_type": "code",
      "metadata": {
        "id": "sLIPuqKT8_17"
      },
      "source": [
        "def translate_sentence(sentence,source,target,model,device,max_len=50):\n",
        "  model.eval()\n",
        "  token=[]\n",
        "  for word in sentence:\n",
        "    token.append(source.vocab.stoi[word])\n",
        "  \n",
        "  token=[source.vocab.stoi[source.init_token]]+token+[source.vocab.stoi[source.eos_token]]\n",
        "  token_tensor=torch.tensor(token,dtype=torch.long).unsqueeze(0).to(device)\n",
        "\n",
        "  src_mask=model.make_src_mask(token_tensor)\n",
        "\n",
        "  with torch.no_grad():\n",
        "    encoder_src = model.encoder(token_tensor,src_mask)\n",
        "  \n",
        "  trg_indexes = [target.vocab.stoi[target.init_token]]\n",
        "\n",
        "  for i in range(max_len):\n",
        "\n",
        "        trg_tensor = torch.LongTensor(trg_indexes).unsqueeze(0).to(device)\n",
        "        trg_mask=model.make_trg_mask(trg_tensor)\n",
        "\n",
        "        with torch.no_grad():\n",
        "          output,attention = model.decoder(trg_tensor,trg_mask,encoder_src,src_mask)\n",
        "\n",
        "        pred_token=output.argmax(2)[:,-1].item()\n",
        "        trg_indexes.append(pred_token)\n",
        "\n",
        "        if pred_token == target.vocab.stoi[target.eos_token]:\n",
        "          break\n",
        "    \n",
        "  trg_tokens = [target.vocab.itos[i] for i in trg_indexes]\n",
        "    \n",
        "  return trg_tokens[1:], attention     "
      ],
      "execution_count": null,
      "outputs": []
    },
    {
      "cell_type": "code",
      "metadata": {
        "colab": {
          "base_uri": "https://localhost:8080/"
        },
        "id": "snjjgqwfIYlB",
        "outputId": "1b8144cd-cda0-4f96-c0a7-b3e0db828438"
      },
      "source": [
        "\n",
        "example_idx = 55\n",
        "\n",
        "src = vars(train_data.examples[example_idx])['src']\n",
        "trg = vars(train_data.examples[example_idx])['trg']\n",
        "\n",
        "print(f'src = {src}')\n",
        "print(f'trg = {trg}')"
      ],
      "execution_count": null,
      "outputs": [
        {
          "output_type": "stream",
          "text": [
            "src = ['ein', 'mann', 'in', 'einem', 'anzug', 'rennt', 'an', 'zwei', 'anderen', 'herren', 'vorbei', ',', 'die', 'auch', 'einen', 'anzug', 'tragen', '.']\n",
            "trg = ['a', 'man', 'in', 'a', 'suit', 'is', 'running', 'past', 'two', 'other', 'gentleman', ',', 'also', 'dressed', 'in', 'a', 'suit', '.']\n"
          ],
          "name": "stdout"
        }
      ]
    },
    {
      "cell_type": "code",
      "metadata": {
        "colab": {
          "base_uri": "https://localhost:8080/"
        },
        "id": "yepaTI6rJkR4",
        "outputId": "e19b2e7f-1562-4f07-bbe9-e85d4aaed332"
      },
      "source": [
        "translation,attention=translate_sentence(src,source,target,model,device)\n",
        "translation"
      ],
      "execution_count": null,
      "outputs": [
        {
          "output_type": "execute_result",
          "data": {
            "text/plain": [
              "['a',\n",
              " 'man',\n",
              " 'in',\n",
              " 'a',\n",
              " 'suit',\n",
              " 'is',\n",
              " 'running',\n",
              " 'past',\n",
              " 'two',\n",
              " 'other',\n",
              " 'gentlemen',\n",
              " 'wearing',\n",
              " 'a',\n",
              " 'suit',\n",
              " '.',\n",
              " '<eos>']"
            ]
          },
          "metadata": {
            "tags": []
          },
          "execution_count": 158
        }
      ]
    },
    {
      "cell_type": "code",
      "metadata": {
        "id": "_8UAHTjYJpyf"
      },
      "source": [
        "import matplotlib.pyplot as plt\n",
        "import matplotlib.ticker as ticker\n",
        "\n",
        "import spacy\n",
        "import numpy as np"
      ],
      "execution_count": null,
      "outputs": []
    },
    {
      "cell_type": "code",
      "metadata": {
        "id": "iIGFGUjgKbqw"
      },
      "source": [
        "def display_attention(sentence, translation, attention, n_heads = 8, n_rows = 4, n_cols = 2):\n",
        "    \n",
        "    assert n_rows * n_cols == n_heads\n",
        "    \n",
        "    fig = plt.figure(figsize=(15,25))\n",
        "    \n",
        "    for i in range(n_heads):\n",
        "        \n",
        "        ax = fig.add_subplot(n_rows, n_cols, i+1)\n",
        "        \n",
        "        _attention = attention.squeeze(0)[i].cpu().detach().numpy()\n",
        "\n",
        "        cax = ax.matshow(_attention, cmap='bone')\n",
        "\n",
        "        ax.tick_params(labelsize=12)\n",
        "        ax.set_xticklabels(['']+['<sos>']+[t.lower() for t in sentence]+['<eos>'], \n",
        "                           rotation=45)\n",
        "        ax.set_yticklabels(['']+translation)\n",
        "\n",
        "        ax.xaxis.set_major_locator(ticker.MultipleLocator(1))\n",
        "        ax.yaxis.set_major_locator(ticker.MultipleLocator(1))\n",
        "\n",
        "    plt.show()\n",
        "    plt.close()"
      ],
      "execution_count": null,
      "outputs": []
    },
    {
      "cell_type": "code",
      "metadata": {
        "colab": {
          "base_uri": "https://localhost:8080/",
          "height": 1000
        },
        "id": "1nAHGyCsKBuP",
        "outputId": "b02e7b98-a1c2-4592-e3aa-9b8ac377509a"
      },
      "source": [
        "display_attention(src,translation,attention)"
      ],
      "execution_count": null,
      "outputs": [
        {
          "output_type": "display_data",
          "data": {
            "image/png": "[encoded data removed]",
            "text/plain": [
              "<Figure size 1080x1800 with 8 Axes>"
            ]
          },
          "metadata": {
            "tags": [],
            "needs_background": "light"
          }
        }
      ]
    },
    {
      "cell_type": "code",
      "metadata": {
        "colab": {
          "base_uri": "https://localhost:8080/"
        },
        "id": "o333uRRnKJM-",
        "outputId": "9be71f4f-b04f-450b-dcd8-14a6c8264dd9"
      },
      "source": [
        "attention.shape"
      ],
      "execution_count": null,
      "outputs": [
        {
          "output_type": "execute_result",
          "data": {
            "text/plain": [
              "torch.Size([1, 8, 16, 20])"
            ]
          },
          "metadata": {
            "tags": []
          },
          "execution_count": 162
        }
      ]
    },
    {
      "cell_type": "code",
      "metadata": {
        "id": "pt4_Vs6VL0YX"
      },
      "source": [
        "from torchtext.data.metrics import bleu_score\n",
        "\n",
        "def calculate_bleu(data, src_field, trg_field, model, device, max_len = 50):\n",
        "    \n",
        "    trgs = []\n",
        "    pred_trgs = []\n",
        "    \n",
        "    for datum in data:\n",
        "        \n",
        "        src = vars(datum)['src']\n",
        "        trg = vars(datum)['trg']\n",
        "        \n",
        "        pred_trg, _ = translate_sentence(src, src_field, trg_field, model, device, max_len)\n",
        "        \n",
        "        #cut off <eos> token\n",
        "        pred_trg = pred_trg[:-1]\n",
        "        \n",
        "        pred_trgs.append(pred_trg)\n",
        "        trgs.append([trg])\n",
        "        \n",
        "    return bleu_score(pred_trgs, trgs)"
      ],
      "execution_count": null,
      "outputs": []
    },
    {
      "cell_type": "code",
      "metadata": {
        "colab": {
          "base_uri": "https://localhost:8080/"
        },
        "id": "uLp8jTxCQkaN",
        "outputId": "49485a66-b77d-418b-ba21-110b8678fe56"
      },
      "source": [
        "bleu_score = calculate_bleu(test_data, source, target, model, device)\n",
        "\n",
        "print(f'BLEU score = {bleu_score*100:.2f}')"
      ],
      "execution_count": null,
      "outputs": [
        {
          "output_type": "stream",
          "text": [
            "BLEU score = 35.98\n"
          ],
          "name": "stdout"
        }
      ]
    },
    {
      "cell_type": "code",
      "metadata": {
        "id": "ibCMqWJNQnra"
      },
      "source": [
        ""
      ],
      "execution_count": null,
      "outputs": []
    }
  ]
}